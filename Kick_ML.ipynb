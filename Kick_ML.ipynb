{
  "nbformat": 4,
  "nbformat_minor": 0,
  "metadata": {
    "colab": {
      "name": "Kick_ML.ipynb",
      "provenance": [],
      "authorship_tag": "ABX9TyP87VER1rkyHxI0EomDX/NN",
      "include_colab_link": true
    },
    "kernelspec": {
      "name": "python3",
      "display_name": "Python 3"
    }
  },
  "cells": [
    {
      "cell_type": "markdown",
      "metadata": {
        "id": "view-in-github",
        "colab_type": "text"
      },
      "source": [
        "<a href=\"https://colab.research.google.com/github/ShengpeiWang/kick-with-bert/blob/master/Kick_ML.ipynb\" target=\"_parent\"><img src=\"https://colab.research.google.com/assets/colab-badge.svg\" alt=\"Open In Colab\"/></a>"
      ]
    },
    {
      "cell_type": "markdown",
      "metadata": {
        "id": "rmEC59eNA6MN",
        "colab_type": "text"
      },
      "source": [
        "## Compare RoBERTa model with traditional ML approach.\n",
        "\n",
        "The results using the RoBERTa model can be found in the \"kick_roberta_fastai2.ipynb.\" Since I used a classification head rather than a regression head, the results aren't directly comparable with my previous attempts using traditional ML approach (ridge regression). Here I will perform the classification tast using ML approaches to better understand the performance of the RoBERTa model. "
      ]
    },
    {
      "cell_type": "code",
      "metadata": {
        "id": "t6wW1ed-A2OM",
        "colab_type": "code",
        "colab": {}
      },
      "source": [
        "# set up other dependencies\n",
        "# for data input and output\n",
        "from google.colab import drive\n",
        "import pickle\n",
        "import pandas as pd\n",
        "import numpy as np\n",
        "\n",
        "# for visualization\n",
        "import seaborn as sns\n",
        "import matplotlib.pyplot as plt\n",
        "\n",
        "# NLP preprocessing functions\n",
        "import re\n",
        "from nltk.corpus import stopwords\n",
        "from nltk.tokenize import word_tokenize\n",
        "from nltk.stem import WordNetLemmatizer\n",
        "wnl = WordNetLemmatizer()\n",
        "\n",
        "# train test split\n",
        "from sklearn.model_selection import train_test_split\n",
        "\n",
        "# feature engineering\n",
        "from sklearn.feature_extraction.text import TfidfVectorizer\n",
        "from sklearn.preprocessing import OneHotEncoder\n",
        "onehot = OneHotEncoder()\n",
        "from scipy.sparse import hstack\n",
        "\n",
        "# modeling functions\n",
        "from sklearn.metrics import r2_score, mean_squared_error\n",
        "from sklearn.gaussian_process import GaussianProcessRegressor\n",
        "from sklearn.linear_model import ElasticNet, Lasso # sparse models\n",
        "from sklearn.svm import LinearSVR\n",
        "from sklearn.linear_model import Ridge # regularization properties\n",
        "from sklearn.kernel_ridge import KernelRidge #\n",
        "\n",
        "# model testing\n",
        "from sklearn.model_selection import cross_validate\n",
        "from sklearn.model_selection import learning_curve"
      ],
      "execution_count": 28,
      "outputs": []
    },
    {
      "cell_type": "code",
      "metadata": {
        "id": "2wtMhInTDGKz",
        "colab_type": "code",
        "colab": {
          "base_uri": "https://localhost:8080/",
          "height": 129
        },
        "outputId": "3be5b5c0-d377-40cd-cc4d-402586d73e40"
      },
      "source": [
        "# local drive set up, so I can access data in Googel drive \n",
        "drive.mount('/content/gdrive', force_remount=True)\n",
        "root_dir = \"/content/gdrive/My Drive/\"\n",
        "base_dir = root_dir + 'fastai-v3/kick'"
      ],
      "execution_count": 3,
      "outputs": [
        {
          "output_type": "stream",
          "text": [
            "Go to this URL in a browser: https://accounts.google.com/o/oauth2/auth?client_id=947318989803-6bn6qk8qdgf4n4g3pfee6491hc0brc4i.apps.googleusercontent.com&redirect_uri=urn%3aietf%3awg%3aoauth%3a2.0%3aoob&response_type=code&scope=email%20https%3a%2f%2fwww.googleapis.com%2fauth%2fdocs.test%20https%3a%2f%2fwww.googleapis.com%2fauth%2fdrive%20https%3a%2f%2fwww.googleapis.com%2fauth%2fdrive.photos.readonly%20https%3a%2f%2fwww.googleapis.com%2fauth%2fpeopleapi.readonly\n",
            "\n",
            "Enter your authorization code:\n",
            "··········\n",
            "Mounted at /content/gdrive\n"
          ],
          "name": "stdout"
        }
      ]
    },
    {
      "cell_type": "markdown",
      "metadata": {
        "id": "bcuitZHHE3gN",
        "colab_type": "text"
      },
      "source": [
        "## Load and process data"
      ]
    },
    {
      "cell_type": "code",
      "metadata": {
        "id": "khEkqEHLDQIa",
        "colab_type": "code",
        "colab": {}
      },
      "source": [
        "# load the data:\n",
        "with open(base_dir + \"/project_data_complete.pkl\", \"rb\") as f:\n",
        "  df = pickle.load(f)"
      ],
      "execution_count": 4,
      "outputs": []
    },
    {
      "cell_type": "code",
      "metadata": {
        "id": "13EUdNigDYQG",
        "colab_type": "code",
        "colab": {
          "base_uri": "https://localhost:8080/",
          "height": 35
        },
        "outputId": "a7fabed5-1672-4366-8cfc-b4fa457b79ac"
      },
      "source": [
        "df.shape"
      ],
      "execution_count": 5,
      "outputs": [
        {
          "output_type": "execute_result",
          "data": {
            "text/plain": [
              "(2107, 30)"
            ]
          },
          "metadata": {
            "tags": []
          },
          "execution_count": 5
        }
      ]
    },
    {
      "cell_type": "code",
      "metadata": {
        "id": "d3SvrUUtEND9",
        "colab_type": "code",
        "colab": {}
      },
      "source": [
        "df['story_tb'] = df[\"project_name\"].map(str) + df[\"blurb\"].map(str) +df[\"story\"].map(str)"
      ],
      "execution_count": 6,
      "outputs": []
    },
    {
      "cell_type": "code",
      "metadata": {
        "id": "THjp8N4-ESwt",
        "colab_type": "code",
        "colab": {}
      },
      "source": [
        "df.columns = ['index', 'project_id_1', 'url', 'story', 'project_id', 'project_name',\n",
        "       'blurb', 'goal', 'pledge', 'state', 'country', 'deadline', 'create',\n",
        "       'launch', 'staff_pick', 'backers', 'usd_rate', 'creator', 'category',\n",
        "       'url', 'category_name', 'category_parent', 'name_parent', 'goal_usd',\n",
        "       'pledge_usd', 'percent', 'days_active', 'days_draft', 'language',\n",
        "       'keep_story', 'story_tb']"
      ],
      "execution_count": 7,
      "outputs": []
    },
    {
      "cell_type": "code",
      "metadata": {
        "id": "1QnP80pUFSsL",
        "colab_type": "code",
        "colab": {}
      },
      "source": [
        "# word count and length in title and blurb\n",
        "df['title_words'] = df['project_name'].str.split().str.len()\n",
        "df['title_l'] = df['project_name'].str.len()\n",
        "df['blurb_words'] = df['blurb'].str.split().str.len()\n",
        "df['blurb_l'] = df['blurb'].str.len()"
      ],
      "execution_count": 8,
      "outputs": []
    },
    {
      "cell_type": "code",
      "metadata": {
        "id": "_dtshlY8EeoC",
        "colab_type": "code",
        "colab": {}
      },
      "source": [
        "df['l_goal'] = np.log10(df['goal_usd'] + 1)\n",
        "df['l_pledge'] = np.log10(df['pledge_usd'] + 1)\n",
        "df['l_percent'] = np.log10(df['percent']*100+1)\n",
        "max_bin = max(df['percent']*100)+1\n",
        "df['performance'] = pd.cut(df['percent']*100,\n",
        "                                 bins = [0, 1, 100, 120, max_bin], \n",
        "                                 labels = [\"fail\", \"some\", \"goal\", \"great\"],\n",
        "                                 right = False)\n",
        "df['performance_n'] = pd.cut(df['percent']*100,\n",
        "                                 bins = [0, 1, 100, 120, max_bin], \n",
        "                                 labels = [0,1,2,3],\n",
        "                                 right = False)\n",
        "df['performance_s'] = round(df['l_pledge'])"
      ],
      "execution_count": 9,
      "outputs": []
    },
    {
      "cell_type": "code",
      "metadata": {
        "id": "aP1irlxXEwjk",
        "colab_type": "code",
        "colab": {
          "base_uri": "https://localhost:8080/",
          "height": 283
        },
        "outputId": "3e5314f9-6444-4ad7-f48f-3cdcaf32c997"
      },
      "source": [
        "df['performance_s'] = pd.cut(df['l_pledge'],\n",
        "                                 bins = [0, 1, 3, 4, 7], \n",
        "                                 labels = [0,1,3,4],\n",
        "                                 right = False)\n",
        "df['performance_s'].hist()\n",
        "# The bins aren't totally even"
      ],
      "execution_count": 63,
      "outputs": [
        {
          "output_type": "execute_result",
          "data": {
            "text/plain": [
              "<matplotlib.axes._subplots.AxesSubplot at 0x7fd54ff41a20>"
            ]
          },
          "metadata": {
            "tags": []
          },
          "execution_count": 63
        },
        {
          "output_type": "display_data",
          "data": {
            "image/png": "[encoded data removed]",
            "text/plain": [
              "<Figure size 432x288 with 1 Axes>"
            ]
          },
          "metadata": {
            "tags": [],
            "needs_background": "light"
          }
        }
      ]
    },
    {
      "cell_type": "markdown",
      "metadata": {
        "id": "_GXwW-IID0EY",
        "colab_type": "text"
      },
      "source": [
        "## NLP processing"
      ]
    },
    {
      "cell_type": "code",
      "metadata": {
        "id": "W032-EUTDiTp",
        "colab_type": "code",
        "colab": {
          "base_uri": "https://localhost:8080/",
          "height": 127
        },
        "outputId": "08438d3b-4e23-44b7-8ee8-2604fd7c17a6"
      },
      "source": [
        "# define function to lemmatize long-form text\n",
        "import nltk\n",
        "nltk.download('stopwords')\n",
        "nltk.download('punkt')\n",
        "nltk.download('wordnet')\n",
        "\n",
        "def lemmatizer(sentence):\n",
        "    token_words = word_tokenize(sentence)\n",
        "    lem_sentence=[]\n",
        "    for word in token_words:\n",
        "        lemma = wnl.lemmatize(word)\n",
        "        lem_sentence.append(lemma)\n",
        "        lem_sentence.append(\" \")\n",
        "    return \"\".join(lem_sentence)\n",
        "\n",
        "# make preprocessing pipeline:\n",
        "pattern = re.compile(r'\\b(' + r'|'.join(stopwords.words('english')) + r')\\b\\s*')\n",
        "\n",
        "def preproc(text):\n",
        "    l = re.sub(r'http\\S+',' ', text) # remove links\n",
        "    n = re.sub(r'[0-9]+', ' ', l) # remove numbers\n",
        "    s = re.sub(r'[^\\w]',' ', n)  # remove symbols\n",
        "    w = pattern.sub('', s) # remove stopwords\n",
        "    p = lemmatizer(w) # lemmatize all words\n",
        "    return p"
      ],
      "execution_count": 11,
      "outputs": [
        {
          "output_type": "stream",
          "text": [
            "[nltk_data] Downloading package stopwords to /root/nltk_data...\n",
            "[nltk_data]   Unzipping corpora/stopwords.zip.\n",
            "[nltk_data] Downloading package punkt to /root/nltk_data...\n",
            "[nltk_data]   Unzipping tokenizers/punkt.zip.\n",
            "[nltk_data] Downloading package wordnet to /root/nltk_data...\n",
            "[nltk_data]   Unzipping corpora/wordnet.zip.\n"
          ],
          "name": "stdout"
        }
      ]
    },
    {
      "cell_type": "code",
      "metadata": {
        "id": "skeR8MMxGC-e",
        "colab_type": "code",
        "colab": {}
      },
      "source": [
        "# combine the apply the preprocessing pipeline to all available data\n",
        "df['story_p'] = df.apply(lambda x: preproc(x['story_tb']), axis=1)\n",
        "# add total text length\n",
        "df['total_words'] = df['story_p'].str.split().str.len()"
      ],
      "execution_count": 12,
      "outputs": []
    },
    {
      "cell_type": "code",
      "metadata": {
        "id": "iupmw7EdGgzX",
        "colab_type": "code",
        "colab": {}
      },
      "source": [
        "with open(base_dir + \"/project_data_ml.pkl\", \"wb\") as f:\n",
        "  pickle.dump(df, f)"
      ],
      "execution_count": 13,
      "outputs": []
    },
    {
      "cell_type": "markdown",
      "metadata": {
        "id": "g4WzQkQzGaIH",
        "colab_type": "text"
      },
      "source": [
        "## Modeling"
      ]
    },
    {
      "cell_type": "code",
      "metadata": {
        "id": "uEiF6H34Hky1",
        "colab_type": "code",
        "colab": {}
      },
      "source": [
        "# make function to display r2 and mse easily:\n",
        "def display_score(y_true, y_predict):\n",
        "    print(\"r2:\",round(r2_score(y_true,y_predict), 3),\n",
        "          \"mse:\",round(mean_squared_error(y_true,y_predict), 3))"
      ],
      "execution_count": 14,
      "outputs": []
    },
    {
      "cell_type": "code",
      "metadata": {
        "id": "F5xlwzjCFB25",
        "colab_type": "code",
        "colab": {}
      },
      "source": [
        "data_project_c = df.sample(frac=1, random_state = 89).reset_index(drop=True)\n",
        "data_y = data_project_c[['performance', 'performance_n', 'l_pledge', 'performance_s']]\n",
        "data_x = data_project_c[['name_parent', 'goal_usd', 'story_p', 'title_l', 'total_words']]\n",
        "# name_parent is the name of the main category\n",
        "\n",
        "X_train, X_test, Y_train, Y_test = train_test_split(data_x, data_y, test_size = 0.20, random_state = 61, stratify = data_x[['name_parent']])\n",
        "\n",
        "x_train, x_val, y_train, y_val = train_test_split(X_train, Y_train, test_size = 0.20, random_state = 59, stratify = X_train[['name_parent']])"
      ],
      "execution_count": 64,
      "outputs": []
    },
    {
      "cell_type": "code",
      "metadata": {
        "id": "8zLBS1PjFVtS",
        "colab_type": "code",
        "colab": {
          "base_uri": "https://localhost:8080/",
          "height": 35
        },
        "outputId": "44dacb8c-b63c-4746-ad8f-cb3480616f09"
      },
      "source": [
        "tfidf = TfidfVectorizer(max_features = 1500)\n",
        "# note the default normalizes the output matrix\n",
        "tfidf_m = tfidf.fit_transform(x_train['story_p'])\n",
        "tfidf_val = tfidf.transform(x_val['story_p'])\n",
        "\n",
        "tfidf_m.shape"
      ],
      "execution_count": 16,
      "outputs": [
        {
          "output_type": "execute_result",
          "data": {
            "text/plain": [
              "(1348, 1500)"
            ]
          },
          "metadata": {
            "tags": []
          },
          "execution_count": 16
        }
      ]
    },
    {
      "cell_type": "code",
      "metadata": {
        "id": "ArWpyrSBGsFT",
        "colab_type": "code",
        "colab": {}
      },
      "source": [
        "# add category information\n",
        "encoder = onehot.fit_transform(x_train[['name_parent']])\n",
        "encoded_val = onehot.transform(x_val[['name_parent']])\n",
        "\n",
        "# combine different feature data\n",
        "x_train_info = x_train[['goal_usd', 'title_l', 'total_words']]\n",
        "x_train_sparse = hstack([tfidf_m, encoder]).toarray()\n",
        "x_train_full = np.concatenate((x_train_info, x_train_sparse), axis= 1)\n",
        "\n",
        "x_val_info = x_val[['goal_usd', 'title_l', 'total_words']]\n",
        "x_val_sparse = hstack([tfidf_val, encoded_val]).toarray()\n",
        "x_val_full = np.concatenate((x_val_info, x_val_sparse), axis= 1)"
      ],
      "execution_count": 17,
      "outputs": []
    },
    {
      "cell_type": "code",
      "metadata": {
        "id": "B0oESssBGxdL",
        "colab_type": "code",
        "colab": {
          "base_uri": "https://localhost:8080/",
          "height": 35
        },
        "outputId": "951e422f-8621-4522-ca64-36ade0cef9f4"
      },
      "source": [
        "x_train_info = x_train[['title_l', 'total_words']]\n",
        "x_train_sparse_r = hstack([tfidf_m, encoder]).toarray()\n",
        "x_train_full_r = np.concatenate((x_train_sparse, x_train_info), axis= 1)\n",
        "\n",
        "x_val_info = x_val[['title_l', 'total_words']]\n",
        "x_val_sparse_r = hstack([tfidf_val, encoded_val]).toarray()\n",
        "x_val_full_r = np.concatenate((x_val_sparse, x_val_info), axis= 1)\n",
        "\n",
        "ridge_r = Ridge()\n",
        "ridge_r.fit(x_train_full_r, y_train['l_pledge'])\n",
        "ridge_r_predict = ridge_r.predict(x_val_full_r)\n",
        "display_score(y_val['l_pledge'], ridge_r_predict)"
      ],
      "execution_count": 18,
      "outputs": [
        {
          "output_type": "stream",
          "text": [
            "r2: 0.267 mse: 1.327\n"
          ],
          "name": "stdout"
        }
      ]
    },
    {
      "cell_type": "code",
      "metadata": {
        "id": "KytS_ibbHzhN",
        "colab_type": "code",
        "colab": {
          "base_uri": "https://localhost:8080/",
          "height": 458
        },
        "outputId": "e6291589-9404-4628-d263-15078b5bd6a7"
      },
      "source": [
        "for i in range(0, 11):\n",
        "  alpha = i/10\n",
        "  ridge_r = Ridge(alpha = alpha)\n",
        "  ridge_r.fit(x_train_full_r, y_train['l_pledge'])\n",
        "  ridge_r_predict = ridge_r.predict(x_val_full_r)\n",
        "  print(f\"alpha = {alpha}\"), display_score(y_val['l_pledge'], ridge_r_predict)\n",
        "\n",
        "# The model performed as did previously"
      ],
      "execution_count": 19,
      "outputs": [
        {
          "output_type": "stream",
          "text": [
            "/usr/local/lib/python3.6/dist-packages/sklearn/linear_model/_ridge.py:190: UserWarning: Singular matrix in solving dual problem. Using least-squares solution instead.\n",
            "  warnings.warn(\"Singular matrix in solving dual problem. Using \"\n"
          ],
          "name": "stderr"
        },
        {
          "output_type": "stream",
          "text": [
            "alpha = 0.0\n",
            "r2: -3.386 mse: 7.94\n",
            "alpha = 0.1\n",
            "r2: -0.116 mse: 2.02\n",
            "alpha = 0.2\n",
            "r2: 0.056 mse: 1.708\n",
            "alpha = 0.3\n",
            "r2: 0.132 mse: 1.572\n",
            "alpha = 0.4\n",
            "r2: 0.175 mse: 1.493\n",
            "alpha = 0.5\n",
            "r2: 0.203 mse: 1.442\n",
            "alpha = 0.6\n",
            "r2: 0.224 mse: 1.405\n",
            "alpha = 0.7\n",
            "r2: 0.239 mse: 1.378\n",
            "alpha = 0.8\n",
            "r2: 0.25 mse: 1.357\n",
            "alpha = 0.9\n",
            "r2: 0.259 mse: 1.34\n",
            "alpha = 1.0\n",
            "r2: 0.267 mse: 1.327\n"
          ],
          "name": "stdout"
        }
      ]
    },
    {
      "cell_type": "markdown",
      "metadata": {
        "id": "oyT9gAlIJYTR",
        "colab_type": "text"
      },
      "source": [
        "## Classification\n"
      ]
    },
    {
      "cell_type": "code",
      "metadata": {
        "id": "s75T7NogJIfB",
        "colab_type": "code",
        "colab": {
          "base_uri": "https://localhost:8080/",
          "height": 164
        },
        "outputId": "1add97cb-0560-49fe-9f5a-597dce46b009"
      },
      "source": [
        "# to establish a baseline with random forest\n",
        "from sklearn.ensemble import RandomForestClassifier\n",
        "rf = RandomForestClassifier()\n",
        "rf.fit(x_train_full_r, y_train['performance_s'])"
      ],
      "execution_count": 20,
      "outputs": [
        {
          "output_type": "execute_result",
          "data": {
            "text/plain": [
              "RandomForestClassifier(bootstrap=True, ccp_alpha=0.0, class_weight=None,\n",
              "                       criterion='gini', max_depth=None, max_features='auto',\n",
              "                       max_leaf_nodes=None, max_samples=None,\n",
              "                       min_impurity_decrease=0.0, min_impurity_split=None,\n",
              "                       min_samples_leaf=1, min_samples_split=2,\n",
              "                       min_weight_fraction_leaf=0.0, n_estimators=100,\n",
              "                       n_jobs=None, oob_score=False, random_state=None,\n",
              "                       verbose=0, warm_start=False)"
            ]
          },
          "metadata": {
            "tags": []
          },
          "execution_count": 20
        }
      ]
    },
    {
      "cell_type": "code",
      "metadata": {
        "id": "PVs-PbZXHKSV",
        "colab_type": "code",
        "colab": {}
      },
      "source": [
        "rf_predict = rf.predict(x_val_full_r)"
      ],
      "execution_count": 21,
      "outputs": []
    },
    {
      "cell_type": "code",
      "metadata": {
        "id": "v5E-R7E5qamH",
        "colab_type": "code",
        "colab": {
          "base_uri": "https://localhost:8080/",
          "height": 35
        },
        "outputId": "f241cf4d-e97c-4faa-e80d-64ad74cf6644"
      },
      "source": [
        "from sklearn.metrics import accuracy_score\n",
        "accuracy_score(y_val['performance_s'], rf_predict)"
      ],
      "execution_count": 37,
      "outputs": [
        {
          "output_type": "execute_result",
          "data": {
            "text/plain": [
              "0.5103857566765578"
            ]
          },
          "metadata": {
            "tags": []
          },
          "execution_count": 37
        }
      ]
    },
    {
      "cell_type": "code",
      "metadata": {
        "id": "UkN2WseloKan",
        "colab_type": "code",
        "colab": {
          "base_uri": "https://localhost:8080/",
          "height": 297
        },
        "outputId": "0790a74c-72ad-4a43-bb18-9eb444192f1c"
      },
      "source": [
        "from sklearn.metrics import plot_confusion_matrix\n",
        "plot_confusion_matrix(rf, x_val_full_r, y_val['performance_s'])"
      ],
      "execution_count": 36,
      "outputs": [
        {
          "output_type": "execute_result",
          "data": {
            "text/plain": [
              "<sklearn.metrics._plot.confusion_matrix.ConfusionMatrixDisplay at 0x7fd55507def0>"
            ]
          },
          "metadata": {
            "tags": []
          },
          "execution_count": 36
        },
        {
          "output_type": "display_data",
          "data": {
            "image/png": "[encoded data removed]",
            "text/plain": [
              "<Figure size 432x288 with 2 Axes>"
            ]
          },
          "metadata": {
            "tags": [],
            "needs_background": "light"
          }
        }
      ]
    },
    {
      "cell_type": "code",
      "metadata": {
        "id": "Cj5CrQ1NJyKy",
        "colab_type": "code",
        "colab": {
          "base_uri": "https://localhost:8080/",
          "height": 164
        },
        "outputId": "b739d808-d711-4078-ed76-efd776d9e281"
      },
      "source": [
        "# to establish a baseline with random forest using only language features\n",
        "rf.fit(tfidf_m, y_train['performance_s'])"
      ],
      "execution_count": 38,
      "outputs": [
        {
          "output_type": "execute_result",
          "data": {
            "text/plain": [
              "RandomForestClassifier(bootstrap=True, ccp_alpha=0.0, class_weight=None,\n",
              "                       criterion='gini', max_depth=None, max_features='auto',\n",
              "                       max_leaf_nodes=None, max_samples=None,\n",
              "                       min_impurity_decrease=0.0, min_impurity_split=None,\n",
              "                       min_samples_leaf=1, min_samples_split=2,\n",
              "                       min_weight_fraction_leaf=0.0, n_estimators=100,\n",
              "                       n_jobs=None, oob_score=False, random_state=None,\n",
              "                       verbose=0, warm_start=False)"
            ]
          },
          "metadata": {
            "tags": []
          },
          "execution_count": 38
        }
      ]
    },
    {
      "cell_type": "code",
      "metadata": {
        "id": "C-oUDo0Gnk4J",
        "colab_type": "code",
        "colab": {
          "base_uri": "https://localhost:8080/",
          "height": 35
        },
        "outputId": "0ab84cb8-16d7-4c3e-ef13-11221d66a5c4"
      },
      "source": [
        "rf_predict = rf.predict(tfidf_val)\n",
        "accuracy_score(y_val['performance_s'], rf_predict)\n",
        "# Actually a random forest performs better than the deep learning approach"
      ],
      "execution_count": 40,
      "outputs": [
        {
          "output_type": "execute_result",
          "data": {
            "text/plain": [
              "0.5044510385756676"
            ]
          },
          "metadata": {
            "tags": []
          },
          "execution_count": 40
        }
      ]
    },
    {
      "cell_type": "code",
      "metadata": {
        "id": "OT0Y_tiBrEXQ",
        "colab_type": "code",
        "colab": {
          "base_uri": "https://localhost:8080/",
          "height": 301
        },
        "outputId": "232e53e1-f1dd-4a03-c1bf-a2226a58ef90"
      },
      "source": [
        "plot_confusion_matrix(rf, tfidf_val, y_val['performance_s'])"
      ],
      "execution_count": 41,
      "outputs": [
        {
          "output_type": "execute_result",
          "data": {
            "text/plain": [
              "<sklearn.metrics._plot.confusion_matrix.ConfusionMatrixDisplay at 0x7fd5509af9e8>"
            ]
          },
          "metadata": {
            "tags": []
          },
          "execution_count": 41
        },
        {
          "output_type": "display_data",
          "data": {
            "image/png": "[encoded data removed]",
            "text/plain": [
              "<Figure size 432x288 with 2 Axes>"
            ]
          },
          "metadata": {
            "tags": [],
            "needs_background": "light"
          }
        }
      ]
    },
    {
      "cell_type": "code",
      "metadata": {
        "id": "vq-jkQgzuj9e",
        "colab_type": "code",
        "colab": {
          "base_uri": "https://localhost:8080/",
          "height": 201
        },
        "outputId": "18637025-f8b4-4a5d-dfea-04808f51a3b1"
      },
      "source": [
        "from sklearn.ensemble import GradientBoostingClassifier\n",
        "gb = GradientBoostingClassifier()\n",
        "gb.fit(x_train_full_r, y_train['performance_s'])"
      ],
      "execution_count": 66,
      "outputs": [
        {
          "output_type": "execute_result",
          "data": {
            "text/plain": [
              "GradientBoostingClassifier(ccp_alpha=0.0, criterion='friedman_mse', init=None,\n",
              "                           learning_rate=0.1, loss='deviance', max_depth=3,\n",
              "                           max_features=None, max_leaf_nodes=None,\n",
              "                           min_impurity_decrease=0.0, min_impurity_split=None,\n",
              "                           min_samples_leaf=1, min_samples_split=2,\n",
              "                           min_weight_fraction_leaf=0.0, n_estimators=100,\n",
              "                           n_iter_no_change=None, presort='deprecated',\n",
              "                           random_state=None, subsample=1.0, tol=0.0001,\n",
              "                           validation_fraction=0.1, verbose=0,\n",
              "                           warm_start=False)"
            ]
          },
          "metadata": {
            "tags": []
          },
          "execution_count": 66
        }
      ]
    },
    {
      "cell_type": "code",
      "metadata": {
        "id": "-a3B9AkDvhOX",
        "colab_type": "code",
        "colab": {
          "base_uri": "https://localhost:8080/",
          "height": 35
        },
        "outputId": "f353e1e8-24f3-444e-c87b-25a277f4171f"
      },
      "source": [
        "accuracy_score(y_val['performance_s'], gb.predict(x_val_full_r))"
      ],
      "execution_count": 68,
      "outputs": [
        {
          "output_type": "execute_result",
          "data": {
            "text/plain": [
              "0.45103857566765576"
            ]
          },
          "metadata": {
            "tags": []
          },
          "execution_count": 68
        }
      ]
    },
    {
      "cell_type": "code",
      "metadata": {
        "id": "svWO8ERfvy3R",
        "colab_type": "code",
        "colab": {
          "base_uri": "https://localhost:8080/",
          "height": 297
        },
        "outputId": "e5cc20b0-d314-4889-a6ee-3f86dcd63aa6"
      },
      "source": [
        "plot_confusion_matrix(gb, x_val_full_r, y_val['performance_s'])\n",
        "# Gradient boosting performs worse than random forest"
      ],
      "execution_count": 70,
      "outputs": [
        {
          "output_type": "execute_result",
          "data": {
            "text/plain": [
              "<sklearn.metrics._plot.confusion_matrix.ConfusionMatrixDisplay at 0x7fd54fec96d8>"
            ]
          },
          "metadata": {
            "tags": []
          },
          "execution_count": 70
        },
        {
          "output_type": "display_data",
          "data": {
            "image/png": "[encoded data removed]",
            "text/plain": [
              "<Figure size 432x288 with 2 Axes>"
            ]
          },
          "metadata": {
            "tags": [],
            "needs_background": "light"
          }
        }
      ]
    },
    {
      "cell_type": "code",
      "metadata": {
        "id": "hMyAmCM1zoR6",
        "colab_type": "code",
        "colab": {
          "base_uri": "https://localhost:8080/",
          "height": 182
        },
        "outputId": "0d769a6b-a741-464a-8607-ec0c603fab3c"
      },
      "source": [
        "from sklearn.linear_model import LogisticRegression\n",
        "lr = LogisticRegression()\n",
        "lr.fit(x_train_full_r, y_train['performance_s'])\n",
        "accuracy_score(y_val['performance_s'], lr.predict(x_val_full_r))\n",
        "# Logistic regression also doesn't perform as well"
      ],
      "execution_count": 71,
      "outputs": [
        {
          "output_type": "stream",
          "text": [
            "/usr/local/lib/python3.6/dist-packages/sklearn/linear_model/_logistic.py:940: ConvergenceWarning: lbfgs failed to converge (status=1):\n",
            "STOP: TOTAL NO. of ITERATIONS REACHED LIMIT.\n",
            "\n",
            "Increase the number of iterations (max_iter) or scale the data as shown in:\n",
            "    https://scikit-learn.org/stable/modules/preprocessing.html\n",
            "Please also refer to the documentation for alternative solver options:\n",
            "    https://scikit-learn.org/stable/modules/linear_model.html#logistic-regression\n",
            "  extra_warning_msg=_LOGISTIC_SOLVER_CONVERGENCE_MSG)\n"
          ],
          "name": "stderr"
        },
        {
          "output_type": "execute_result",
          "data": {
            "text/plain": [
              "0.4658753709198813"
            ]
          },
          "metadata": {
            "tags": []
          },
          "execution_count": 71
        }
      ]
    },
    {
      "cell_type": "markdown",
      "metadata": {
        "id": "sj6ZeLIa2Zfr",
        "colab_type": "text"
      },
      "source": [
        "## Improve random forest performance with hyperparameter tuning"
      ]
    },
    {
      "cell_type": "code",
      "metadata": {
        "id": "qRsNRBVj2ek0",
        "colab_type": "code",
        "colab": {
          "base_uri": "https://localhost:8080/",
          "height": 201
        },
        "outputId": "939e78d9-b66d-4f14-94b2-70cd45cf34cb"
      },
      "source": [
        "for i in range(0, 50, 5):\n",
        "  rf = RandomForestClassifier(criterion = 'entropy', min_samples_split = i+2)\n",
        "  rf.fit(tfidf_m, y_train['performance_s'])\n",
        "  print(i+2, accuracy_score(y_val['performance_s'], rf.predict(tfidf_val)))\n",
        "# the best parameter is about 22"
      ],
      "execution_count": 86,
      "outputs": [
        {
          "output_type": "stream",
          "text": [
            "2 0.4836795252225519\n",
            "7 0.49258160237388726\n",
            "12 0.5014836795252225\n",
            "17 0.49258160237388726\n",
            "22 0.5103857566765578\n",
            "27 0.5014836795252225\n",
            "32 0.486646884272997\n",
            "37 0.49258160237388726\n",
            "42 0.4896142433234421\n",
            "47 0.4896142433234421\n"
          ],
          "name": "stdout"
        }
      ]
    },
    {
      "cell_type": "code",
      "metadata": {
        "id": "B5lDk34n3vqt",
        "colab_type": "code",
        "colab": {
          "base_uri": "https://localhost:8080/",
          "height": 109
        },
        "outputId": "ef6a88df-ae57-42b0-dbb3-1b1c998635f0"
      },
      "source": [
        "for i in range(50, 100, 10):\n",
        "  rf = RandomForestClassifier(criterion = 'entropy', min_samples_split = 22, max_samples = i/100)\n",
        "  rf.fit(tfidf_m, y_train['performance_s'])\n",
        "  print(i/100, accuracy_score(y_val['performance_s'], rf.predict(tfidf_val)))"
      ],
      "execution_count": 88,
      "outputs": [
        {
          "output_type": "stream",
          "text": [
            "0.5 0.486646884272997\n",
            "0.6 0.49258160237388726\n",
            "0.7 0.4836795252225519\n",
            "0.8 0.47477744807121663\n",
            "0.9 0.49258160237388726\n"
          ],
          "name": "stdout"
        }
      ]
    },
    {
      "cell_type": "code",
      "metadata": {
        "id": "z_EUwO0S4wIy",
        "colab_type": "code",
        "colab": {
          "base_uri": "https://localhost:8080/",
          "height": 35
        },
        "outputId": "2c9ecb37-1f90-443f-edbc-459ad809f702"
      },
      "source": [
        "rf = RandomForestClassifier(criterion = 'entropy', min_samples_split = 22, class_weight = 'balanced')\n",
        "rf.fit(tfidf_m, y_train['performance_s'])\n",
        "accuracy_score(y_val['performance_s'], rf.predict(tfidf_val))\n",
        "# balanced class weight tend to reduce model performance"
      ],
      "execution_count": 98,
      "outputs": [
        {
          "output_type": "execute_result",
          "data": {
            "text/plain": [
              "0.47774480712166173"
            ]
          },
          "metadata": {
            "tags": []
          },
          "execution_count": 98
        }
      ]
    },
    {
      "cell_type": "code",
      "metadata": {
        "id": "FMknJMmJ32VN",
        "colab_type": "code",
        "colab": {
          "base_uri": "https://localhost:8080/",
          "height": 182
        },
        "outputId": "de5f26e7-31ef-44c0-be49-f89fb39d7b95"
      },
      "source": [
        "for i in range(10, 100, 10):\n",
        "  rf = RandomForestClassifier(criterion = 'entropy', max_depth = i, min_samples_split = 22)\n",
        "  rf.fit(tfidf_m, y_train['performance_s'])\n",
        "  print(i, accuracy_score(y_val['performance_s'], rf.predict(tfidf_val)))"
      ],
      "execution_count": 99,
      "outputs": [
        {
          "output_type": "stream",
          "text": [
            "10 0.4836795252225519\n",
            "20 0.49258160237388726\n",
            "30 0.49554896142433236\n",
            "40 0.47477744807121663\n",
            "50 0.49258160237388726\n",
            "60 0.4807121661721068\n",
            "70 0.49554896142433236\n",
            "80 0.4896142433234421\n",
            "90 0.5222551928783383\n"
          ],
          "name": "stdout"
        }
      ]
    },
    {
      "cell_type": "code",
      "metadata": {
        "id": "2a1xUJS95ohA",
        "colab_type": "code",
        "colab": {
          "base_uri": "https://localhost:8080/",
          "height": 127
        },
        "outputId": "c784d85e-6236-48c8-a0a3-40a3f7489dd9"
      },
      "source": [
        "for i in range(100, 160, 10):\n",
        "  rf = RandomForestClassifier(criterion = 'entropy', max_depth = i, min_samples_split = 22)\n",
        "  rf.fit(tfidf_m, y_train['performance_s'])\n",
        "  print(i, accuracy_score(y_val['performance_s'], rf.predict(tfidf_val)))"
      ],
      "execution_count": 100,
      "outputs": [
        {
          "output_type": "stream",
          "text": [
            "100 0.5074183976261127\n",
            "110 0.49554896142433236\n",
            "120 0.4807121661721068\n",
            "130 0.49258160237388726\n",
            "140 0.49258160237388726\n",
            "150 0.49554896142433236\n"
          ],
          "name": "stdout"
        }
      ]
    },
    {
      "cell_type": "markdown",
      "metadata": {
        "id": "1orEElvh6IdX",
        "colab_type": "text"
      },
      "source": [
        "## The model can predict the correct class 52% of the time.\n",
        "This simple (random forest) approach ended up performing better than other classification models (logistic regression, gradient boost). It also performed better than the more complex approaching using transfer learning with the base RoBERTa model. \n",
        "\n",
        "Even though the model is twice as accurate than a random predecition (52% vs 25% in the case of four classes), it still suffers from a lack of data. Which I will tackle in the future"
      ]
    }
  ]
}