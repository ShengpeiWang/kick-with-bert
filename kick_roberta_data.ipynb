{
  "nbformat": 4,
  "nbformat_minor": 0,
  "metadata": {
    "colab": {
      "name": "kick_robert_data.ipynb",
      "provenance": [],
      "collapsed_sections": [
        "7IGb5jCQ_EDt",
        "uQn2lVk2bJVN"
      ],
      "authorship_tag": "ABX9TyO0qwDr70yJwOndHI2BaOj2",
      "include_colab_link": true
    },
    "kernelspec": {
      "name": "python3",
      "display_name": "Python 3"
    },
    "accelerator": "GPU"
  },
  "cells": [
    {
      "cell_type": "markdown",
      "metadata": {
        "id": "view-in-github",
        "colab_type": "text"
      },
      "source": [
        "<a href=\"https://colab.research.google.com/github/ShengpeiWang/kick-with-bert/blob/master/kick_roberta_data.ipynb\" target=\"_parent\"><img src=\"https://colab.research.google.com/assets/colab-badge.svg\" alt=\"Open In Colab\"/></a>"
      ]
    },
    {
      "cell_type": "markdown",
      "metadata": {
        "id": "uDLuLi0S12js",
        "colab_type": "text"
      },
      "source": [
        "## Import and shape the data\n",
        "Since BERT based models tend to perform best with short input, I'm going to split up the sentences into seperate records."
      ]
    },
    {
      "cell_type": "code",
      "metadata": {
        "id": "K8teoOiv37K4",
        "colab_type": "code",
        "colab": {
          "base_uri": "https://localhost:8080/",
          "height": 129
        },
        "outputId": "0658cfbc-fd5b-4ac8-bf30-05a9ddcebcfd"
      },
      "source": [
        "# local colab set up\n",
        "# remember to turn the GPU option on\n",
        "from google.colab import drive\n",
        "drive.mount('/content/gdrive', force_remount=True)\n",
        "root_dir = \"/content/gdrive/My Drive/\"\n",
        "base_dir = root_dir + 'fastai-v3/kick'"
      ],
      "execution_count": null,
      "outputs": [
        {
          "output_type": "stream",
          "text": [
            "Go to this URL in a browser: https://accounts.google.com/o/oauth2/auth?client_id=947318989803-6bn6qk8qdgf4n4g3pfee6491hc0brc4i.apps.googleusercontent.com&redirect_uri=urn%3aietf%3awg%3aoauth%3a2.0%3aoob&response_type=code&scope=email%20https%3a%2f%2fwww.googleapis.com%2fauth%2fdocs.test%20https%3a%2f%2fwww.googleapis.com%2fauth%2fdrive%20https%3a%2f%2fwww.googleapis.com%2fauth%2fdrive.photos.readonly%20https%3a%2f%2fwww.googleapis.com%2fauth%2fpeopleapi.readonly\n",
            "\n",
            "Enter your authorization code:\n",
            "··········\n",
            "Mounted at /content/gdrive\n"
          ],
          "name": "stdout"
        }
      ]
    },
    {
      "cell_type": "markdown",
      "metadata": {
        "id": "roe53KY892_h",
        "colab_type": "text"
      },
      "source": [
        "Load and wrangle the Kickstarter data\n"
      ]
    },
    {
      "cell_type": "code",
      "metadata": {
        "id": "RhgOOgBP4s80",
        "colab_type": "code",
        "colab": {}
      },
      "source": [
        "# load the kickstarter dataset from my previous kickstarter project\n",
        "# Data cleaning was done in the other jupyter notebooks\n",
        "import pickle\n",
        "with open(base_dir + \"/project_data_complete.pkl\", \"rb\") as f:\n",
        "  df = pickle.load(f)"
      ],
      "execution_count": null,
      "outputs": []
    },
    {
      "cell_type": "code",
      "metadata": {
        "id": "14fa587W5Kou",
        "colab_type": "code",
        "colab": {}
      },
      "source": [
        "df['story_tb'] = df[\"project_name\"].map(str) + df[\"blurb\"].map(str) +df[\"story\"].map(str)"
      ],
      "execution_count": null,
      "outputs": []
    },
    {
      "cell_type": "code",
      "metadata": {
        "id": "EK8lhP4m8L11",
        "colab_type": "code",
        "colab": {}
      },
      "source": [
        "df.columns = ['index', 'project_id_1', 'url', 'story', 'project_id', 'project_name',\n",
        "       'blurb', 'goal', 'pledge', 'state', 'country', 'deadline', 'create',\n",
        "       'launch', 'staff_pick', 'backers', 'usd_rate', 'creator', 'category',\n",
        "       'url', 'category_name', 'category_parent', 'name_parent', 'goal_usd',\n",
        "       'pledge_usd', 'percent', 'days_active', 'days_draft', 'language',\n",
        "       'keep_story', 'story_tb']"
      ],
      "execution_count": null,
      "outputs": []
    },
    {
      "cell_type": "code",
      "metadata": {
        "id": "IaqgYHlr83p1",
        "colab_type": "code",
        "colab": {}
      },
      "source": [
        "import numpy as np\n",
        "import pandas as pd\n",
        "df['l_goal'] = np.log10(df['goal_usd'] + 1)\n",
        "df['l_pledge'] = np.log10(df['pledge_usd'] + 1)\n",
        "df['l_percent'] = np.log10(df['percent']*100+1)\n",
        "max_bin = max(df['percent']*100)+1\n",
        "df['performance'] = pd.cut(df['percent']*100,\n",
        "                                 bins = [0, 1, 100, 120, max_bin], \n",
        "                                 labels = [\"fail\", \"some\", \"goal\", \"great\"],\n",
        "                                 right = False)\n",
        "df['performance_n'] = pd.cut(df['percent']*100,\n",
        "                                 bins = [0, 1, 100, 120, max_bin], \n",
        "                                 labels = [0,1,2,3],\n",
        "                                 right = False)\n",
        "df['performance_s'] = round(df['l_pledge'])"
      ],
      "execution_count": null,
      "outputs": []
    },
    {
      "cell_type": "code",
      "metadata": {
        "id": "pLZ2w3q6MYCP",
        "colab_type": "code",
        "colab": {
          "base_uri": "https://localhost:8080/",
          "height": 320
        },
        "outputId": "d3a50ec7-74ea-46ff-a8ac-3357f2a1a8c0"
      },
      "source": [
        "df. groupby(['performance_s']).count()"
      ],
      "execution_count": null,
      "outputs": [
        {
          "output_type": "execute_result",
          "data": {
            "text/html": [
              "<div>\n",
              "<style scoped>\n",
              "    .dataframe tbody tr th:only-of-type {\n",
              "        vertical-align: middle;\n",
              "    }\n",
              "\n",
              "    .dataframe tbody tr th {\n",
              "        vertical-align: top;\n",
              "    }\n",
              "\n",
              "    .dataframe thead th {\n",
              "        text-align: right;\n",
              "    }\n",
              "</style>\n",
              "<table border=\"1\" class=\"dataframe\">\n",
              "  <thead>\n",
              "    <tr style=\"text-align: right;\">\n",
              "      <th></th>\n",
              "      <th>index</th>\n",
              "      <th>project_id_1</th>\n",
              "      <th>url</th>\n",
              "      <th>story</th>\n",
              "      <th>project_id</th>\n",
              "      <th>project_name</th>\n",
              "      <th>blurb</th>\n",
              "      <th>goal</th>\n",
              "      <th>pledge</th>\n",
              "      <th>state</th>\n",
              "      <th>country</th>\n",
              "      <th>deadline</th>\n",
              "      <th>create</th>\n",
              "      <th>launch</th>\n",
              "      <th>staff_pick</th>\n",
              "      <th>backers</th>\n",
              "      <th>usd_rate</th>\n",
              "      <th>creator</th>\n",
              "      <th>category</th>\n",
              "      <th>url</th>\n",
              "      <th>category_name</th>\n",
              "      <th>category_parent</th>\n",
              "      <th>name_parent</th>\n",
              "      <th>goal_usd</th>\n",
              "      <th>pledge_usd</th>\n",
              "      <th>percent</th>\n",
              "      <th>days_active</th>\n",
              "      <th>days_draft</th>\n",
              "      <th>language</th>\n",
              "      <th>keep_story</th>\n",
              "      <th>story_tb</th>\n",
              "      <th>l_goal</th>\n",
              "      <th>l_pledge</th>\n",
              "      <th>l_percent</th>\n",
              "      <th>performance</th>\n",
              "      <th>performance_n</th>\n",
              "    </tr>\n",
              "    <tr>\n",
              "      <th>performance_s</th>\n",
              "      <th></th>\n",
              "      <th></th>\n",
              "      <th></th>\n",
              "      <th></th>\n",
              "      <th></th>\n",
              "      <th></th>\n",
              "      <th></th>\n",
              "      <th></th>\n",
              "      <th></th>\n",
              "      <th></th>\n",
              "      <th></th>\n",
              "      <th></th>\n",
              "      <th></th>\n",
              "      <th></th>\n",
              "      <th></th>\n",
              "      <th></th>\n",
              "      <th></th>\n",
              "      <th></th>\n",
              "      <th></th>\n",
              "      <th></th>\n",
              "      <th></th>\n",
              "      <th></th>\n",
              "      <th></th>\n",
              "      <th></th>\n",
              "      <th></th>\n",
              "      <th></th>\n",
              "      <th></th>\n",
              "      <th></th>\n",
              "      <th></th>\n",
              "      <th></th>\n",
              "      <th></th>\n",
              "      <th></th>\n",
              "      <th></th>\n",
              "      <th></th>\n",
              "      <th></th>\n",
              "      <th></th>\n",
              "    </tr>\n",
              "  </thead>\n",
              "  <tbody>\n",
              "    <tr>\n",
              "      <th>0.0</th>\n",
              "      <td>286</td>\n",
              "      <td>286</td>\n",
              "      <td>286</td>\n",
              "      <td>286</td>\n",
              "      <td>286</td>\n",
              "      <td>286</td>\n",
              "      <td>286</td>\n",
              "      <td>286</td>\n",
              "      <td>286</td>\n",
              "      <td>286</td>\n",
              "      <td>286</td>\n",
              "      <td>286</td>\n",
              "      <td>286</td>\n",
              "      <td>286</td>\n",
              "      <td>286</td>\n",
              "      <td>286</td>\n",
              "      <td>286</td>\n",
              "      <td>286</td>\n",
              "      <td>286</td>\n",
              "      <td>286</td>\n",
              "      <td>286</td>\n",
              "      <td>286</td>\n",
              "      <td>286</td>\n",
              "      <td>286</td>\n",
              "      <td>286</td>\n",
              "      <td>286</td>\n",
              "      <td>286</td>\n",
              "      <td>286</td>\n",
              "      <td>286</td>\n",
              "      <td>286</td>\n",
              "      <td>286</td>\n",
              "      <td>286</td>\n",
              "      <td>286</td>\n",
              "      <td>286</td>\n",
              "      <td>286</td>\n",
              "      <td>286</td>\n",
              "    </tr>\n",
              "    <tr>\n",
              "      <th>1.0</th>\n",
              "      <td>145</td>\n",
              "      <td>145</td>\n",
              "      <td>145</td>\n",
              "      <td>145</td>\n",
              "      <td>145</td>\n",
              "      <td>145</td>\n",
              "      <td>145</td>\n",
              "      <td>145</td>\n",
              "      <td>145</td>\n",
              "      <td>145</td>\n",
              "      <td>145</td>\n",
              "      <td>145</td>\n",
              "      <td>145</td>\n",
              "      <td>145</td>\n",
              "      <td>145</td>\n",
              "      <td>145</td>\n",
              "      <td>145</td>\n",
              "      <td>145</td>\n",
              "      <td>145</td>\n",
              "      <td>145</td>\n",
              "      <td>145</td>\n",
              "      <td>145</td>\n",
              "      <td>145</td>\n",
              "      <td>145</td>\n",
              "      <td>145</td>\n",
              "      <td>145</td>\n",
              "      <td>145</td>\n",
              "      <td>145</td>\n",
              "      <td>145</td>\n",
              "      <td>145</td>\n",
              "      <td>145</td>\n",
              "      <td>145</td>\n",
              "      <td>145</td>\n",
              "      <td>145</td>\n",
              "      <td>145</td>\n",
              "      <td>145</td>\n",
              "    </tr>\n",
              "    <tr>\n",
              "      <th>2.0</th>\n",
              "      <td>271</td>\n",
              "      <td>271</td>\n",
              "      <td>271</td>\n",
              "      <td>271</td>\n",
              "      <td>271</td>\n",
              "      <td>271</td>\n",
              "      <td>271</td>\n",
              "      <td>271</td>\n",
              "      <td>271</td>\n",
              "      <td>271</td>\n",
              "      <td>271</td>\n",
              "      <td>271</td>\n",
              "      <td>271</td>\n",
              "      <td>271</td>\n",
              "      <td>271</td>\n",
              "      <td>271</td>\n",
              "      <td>271</td>\n",
              "      <td>271</td>\n",
              "      <td>271</td>\n",
              "      <td>271</td>\n",
              "      <td>271</td>\n",
              "      <td>271</td>\n",
              "      <td>271</td>\n",
              "      <td>271</td>\n",
              "      <td>271</td>\n",
              "      <td>271</td>\n",
              "      <td>271</td>\n",
              "      <td>271</td>\n",
              "      <td>271</td>\n",
              "      <td>271</td>\n",
              "      <td>271</td>\n",
              "      <td>271</td>\n",
              "      <td>271</td>\n",
              "      <td>271</td>\n",
              "      <td>271</td>\n",
              "      <td>271</td>\n",
              "    </tr>\n",
              "    <tr>\n",
              "      <th>3.0</th>\n",
              "      <td>619</td>\n",
              "      <td>619</td>\n",
              "      <td>619</td>\n",
              "      <td>619</td>\n",
              "      <td>619</td>\n",
              "      <td>619</td>\n",
              "      <td>619</td>\n",
              "      <td>619</td>\n",
              "      <td>619</td>\n",
              "      <td>619</td>\n",
              "      <td>619</td>\n",
              "      <td>619</td>\n",
              "      <td>619</td>\n",
              "      <td>619</td>\n",
              "      <td>619</td>\n",
              "      <td>619</td>\n",
              "      <td>619</td>\n",
              "      <td>619</td>\n",
              "      <td>619</td>\n",
              "      <td>619</td>\n",
              "      <td>619</td>\n",
              "      <td>619</td>\n",
              "      <td>619</td>\n",
              "      <td>619</td>\n",
              "      <td>619</td>\n",
              "      <td>619</td>\n",
              "      <td>619</td>\n",
              "      <td>619</td>\n",
              "      <td>619</td>\n",
              "      <td>619</td>\n",
              "      <td>619</td>\n",
              "      <td>619</td>\n",
              "      <td>619</td>\n",
              "      <td>619</td>\n",
              "      <td>619</td>\n",
              "      <td>619</td>\n",
              "    </tr>\n",
              "    <tr>\n",
              "      <th>4.0</th>\n",
              "      <td>633</td>\n",
              "      <td>633</td>\n",
              "      <td>633</td>\n",
              "      <td>633</td>\n",
              "      <td>633</td>\n",
              "      <td>633</td>\n",
              "      <td>633</td>\n",
              "      <td>633</td>\n",
              "      <td>633</td>\n",
              "      <td>633</td>\n",
              "      <td>633</td>\n",
              "      <td>633</td>\n",
              "      <td>633</td>\n",
              "      <td>633</td>\n",
              "      <td>633</td>\n",
              "      <td>633</td>\n",
              "      <td>633</td>\n",
              "      <td>633</td>\n",
              "      <td>633</td>\n",
              "      <td>633</td>\n",
              "      <td>633</td>\n",
              "      <td>633</td>\n",
              "      <td>633</td>\n",
              "      <td>633</td>\n",
              "      <td>633</td>\n",
              "      <td>633</td>\n",
              "      <td>633</td>\n",
              "      <td>633</td>\n",
              "      <td>633</td>\n",
              "      <td>633</td>\n",
              "      <td>633</td>\n",
              "      <td>633</td>\n",
              "      <td>633</td>\n",
              "      <td>633</td>\n",
              "      <td>633</td>\n",
              "      <td>633</td>\n",
              "    </tr>\n",
              "    <tr>\n",
              "      <th>5.0</th>\n",
              "      <td>147</td>\n",
              "      <td>147</td>\n",
              "      <td>147</td>\n",
              "      <td>147</td>\n",
              "      <td>147</td>\n",
              "      <td>147</td>\n",
              "      <td>147</td>\n",
              "      <td>147</td>\n",
              "      <td>147</td>\n",
              "      <td>147</td>\n",
              "      <td>147</td>\n",
              "      <td>147</td>\n",
              "      <td>147</td>\n",
              "      <td>147</td>\n",
              "      <td>147</td>\n",
              "      <td>147</td>\n",
              "      <td>147</td>\n",
              "      <td>147</td>\n",
              "      <td>147</td>\n",
              "      <td>147</td>\n",
              "      <td>147</td>\n",
              "      <td>147</td>\n",
              "      <td>147</td>\n",
              "      <td>147</td>\n",
              "      <td>147</td>\n",
              "      <td>147</td>\n",
              "      <td>147</td>\n",
              "      <td>147</td>\n",
              "      <td>147</td>\n",
              "      <td>147</td>\n",
              "      <td>147</td>\n",
              "      <td>147</td>\n",
              "      <td>147</td>\n",
              "      <td>147</td>\n",
              "      <td>147</td>\n",
              "      <td>147</td>\n",
              "    </tr>\n",
              "    <tr>\n",
              "      <th>6.0</th>\n",
              "      <td>6</td>\n",
              "      <td>6</td>\n",
              "      <td>6</td>\n",
              "      <td>6</td>\n",
              "      <td>6</td>\n",
              "      <td>6</td>\n",
              "      <td>6</td>\n",
              "      <td>6</td>\n",
              "      <td>6</td>\n",
              "      <td>6</td>\n",
              "      <td>6</td>\n",
              "      <td>6</td>\n",
              "      <td>6</td>\n",
              "      <td>6</td>\n",
              "      <td>6</td>\n",
              "      <td>6</td>\n",
              "      <td>6</td>\n",
              "      <td>6</td>\n",
              "      <td>6</td>\n",
              "      <td>6</td>\n",
              "      <td>6</td>\n",
              "      <td>6</td>\n",
              "      <td>6</td>\n",
              "      <td>6</td>\n",
              "      <td>6</td>\n",
              "      <td>6</td>\n",
              "      <td>6</td>\n",
              "      <td>6</td>\n",
              "      <td>6</td>\n",
              "      <td>6</td>\n",
              "      <td>6</td>\n",
              "      <td>6</td>\n",
              "      <td>6</td>\n",
              "      <td>6</td>\n",
              "      <td>6</td>\n",
              "      <td>6</td>\n",
              "    </tr>\n",
              "  </tbody>\n",
              "</table>\n",
              "</div>"
            ],
            "text/plain": [
              "               index  project_id_1  url  ...  l_percent  performance  performance_n\n",
              "performance_s                            ...                                       \n",
              "0.0              286           286  286  ...        286          286            286\n",
              "1.0              145           145  145  ...        145          145            145\n",
              "2.0              271           271  271  ...        271          271            271\n",
              "3.0              619           619  619  ...        619          619            619\n",
              "4.0              633           633  633  ...        633          633            633\n",
              "5.0              147           147  147  ...        147          147            147\n",
              "6.0                6             6    6  ...          6            6              6\n",
              "\n",
              "[7 rows x 36 columns]"
            ]
          },
          "metadata": {
            "tags": []
          },
          "execution_count": 6
        }
      ]
    },
    {
      "cell_type": "code",
      "metadata": {
        "id": "jwIhaJGm3GEY",
        "colab_type": "code",
        "colab": {
          "base_uri": "https://localhost:8080/",
          "height": 128
        },
        "outputId": "57d62a50-90fa-43ed-949d-ca89b567689d"
      },
      "source": [
        "df['story_tb'][0]"
      ],
      "execution_count": null,
      "outputs": [
        {
          "output_type": "execute_result",
          "data": {
            "application/vnd.google.colaboratory.intrinsic": {
              "type": "string"
            },
            "text/plain": [
              "\"Strange Wit, an original graphic novel about Jane BowlesThe true biography of the historical figure, writer, alcoholic, lesbian, and world traveler: Jane Sydney Auer Bowles.meet jane bowles: incredible author, inspiring woman, tortured mind.jane may have been marginalized by the cultural canon, but her contemporaries considered her “one of the finest modern writers” (john ashberry), “the most important writer of prose fiction” (tennessee williams), and further, a “genius imp, [a] laughing, hilarious, tortured elf” (truman capote). jane drank more than she wrote, worried more than she worked, and had more epically disastrous love affairs than completed books. by almost any measure, jane led a fascinating life filled with literary giants and great adventure and i want to bring her story to life.sketches of jane at various ages by tyler jenkins“although unknown to the general public, the bowleses were famous among those who were famous.” – gore vidal “my only complaint against mrs. bowles is that she publishes so infrequently. one would prefer larger quantities of her strange wit, thorny insight. certainly she is one of the really original pure stylists.” – truman capote this kickstarter is going to help fund the creation and publication of chapter one of an original graphic novel written by me, katy rex, about jane’s life. this book will be published as a standalone issue and follow jane’s life from childhood up until a freak accident on a horse that led her to be diagnosed with tuberculosis of the knee. it includes art from tyler jenkins (peter panzerfaust, neverboy) on the main biography, and june vigants on the short story, in full color with a stunning and evocative palette from kelly fitzpatrick (sensation comics). editor kirsten thompson contributes a unique perspective on history and feminism. it will also include jane’s short story, a stick of green candy, about the nature of love and childhood innocence and the death of imagination. an inset medical diagram art piece from artist kate lacour will detail the intricacies of joint tuberculosis. this campaign will allow the project to continue and build into a full length book, and will be an opportunity for backers to get the exclusive rewards that will not be available once the book is fully produced. this single extra thick issue, coming in at a full 28 printed pages, will also feature an essay from lauren spohrer, editor of the online magazine two serious ladies, which publishes original poetry and prose from women around the world.tuberculosis of the knee as rendered by artist kate lacourthis original graphic novel will follow jane bowles' life in ten chapters. in each chapter, there is an adaptation of one of her short stories, and each short story is adapted by a different artist. the artistic team adapting short stories includes art from dom sole, betsy peterschmidt (boys with wings), ines estrada (ojitos borrosos, lapsos), june vigants (chainmail bikini, tales of the night watchman), joshua hixson (the rebel gun), anne maxson, beatrice penco sechi (lady doll), ryan kelly (lucifer, local), adam gorham (zero, kill shakespeare), and sean von gorman (toe tag riot, pawn shop), with a kickstarter-exclusive cover by marguerite sauvage (thor, ninjak, the wicked + the divine). in order to tie together her life and stories, colorist kelly fitzpatrick (sensation comics) is creating a unifying palette and letterer/designer taylor esposito (ghost glyph studios) will be facilitating the flow of the work.backer reward: strange wit flask, art not finalvery few accounts of jane’s life exist in the realm of public consumption. some things are broadly and culturally agreed upon: she had many sexual relationships with women, she wrote sparsely and strangely but with genius and style, and when she met her husband, she said to a friend, “he is my enemy.” but the cultural mythos about mrs. bowles does very little to capture the very real and very unique person behind her strange persona.chapter one is completely scripted and the art is nearly complete. help us get it printed, and you (yes, you!) can be eligible for a number of exciting rewards, including: • digital and physical copies before they’re available anywhere else • set of 10 postcards limited edition/numbered • an exclusive limited edition (numbered) print of marguerite sauvage’s portrait of jane • thank-you letter, handwritten • thank-you letter, handwritten while drunk • a mini-comic written & (poorly) drawn by katy: cocktail recipes of the artistic elite • options for original art from the creative team, including pages from the book and full color commissionsone of the cool things about working with a creative team of this scale is that we are able to collect work from each one of the short story artists in a unique set of 10 postcards. each postcard comes from a place where jane lived and worked at the time of the chapter in which that artist's short story is featured.title page by artist tyler jenkinssince the chapter is nearly done, rewards will be printed and shipped within a few months after the campaign ends. the money made in this kickstarter, first and foremost, will be going toward fair page rates for the excellent and high-quality work from this diverse and unique creative team. with the full length graphic novel coming in at around 240 pages, it's not a small budget, and starting to fund it through kickstarter brings it one step closer to being a reality. while this campaign primarily funds the production and printing of chapter one, if we surpass our goal we will be able to use the additional money to speed up the production of the final book.sample page from a quarreling pair artist joshua hixsonthis book is fun to read, beautiful to look at, and covers a crucial topic in the marginalized history of lgbt artists. thank you for considering pledging!update: after our awesome comicosity interview, we decided it was probably a good idea to clarify some of our financial goals.this kickstarter is to print chapter one of the book, and also to fund the artists' costs for the rest of the book. all backers will be getting a discount code for the finished graphic novel, but since that is still in the tentative future and being worked out logistically, it's not being formally included in this project. we know that $12,000 is steep for a single issue, and we're happy that so many of you are being so understanding about the rest of the creative team's needs, even though their work isn't being included in this issue. to make up for that, we're trying to pack as much unique and exclusive content into this mega-issue, including an essay and some concept sketches that will never make it into the final book and will only be available here on kickstarter.\""
            ]
          },
          "metadata": {
            "tags": []
          },
          "execution_count": 7
        }
      ]
    },
    {
      "cell_type": "code",
      "metadata": {
        "id": "-A-U5Zbu3qVw",
        "colab_type": "code",
        "colab": {}
      },
      "source": [
        "# define function to split sentences \n",
        "import re\n",
        "alphabets= \"([A-Za-z])\"\n",
        "prefixes = '(mr|st|mrs|ms|dr)[.]'\n",
        "suffixes = '(inc|ltd|jr|sr|co)'\n",
        "starters = '(mr|mrs|ms|dr|he\\\\s|she\\\\s|it\\\\s|they\\\\s|their\\\\s|our\\\\s|we\\\\s|but\\\\s|however\\\\s|that\\\\s|this\\\\s|wherever)'\n",
        "acronyms = \"([A-Z][.][A-Z][.](?:[A-Z][.])?)\"\n",
        "websites = \"[.](com|net|org|io|gov)\"\n",
        "digits = \"([0-9])\" \n",
        "\n",
        "def split_into_sentences(text):\n",
        "    text = \" \" + text + \"  \"\n",
        "    text = text.replace(\"\\n\",\" \")\n",
        "    text = re.sub(prefixes,\"\\\\1<prd>\",text)\n",
        "    text = re.sub(websites,\"<prd>\\\\1\",text)\n",
        "    if \"Ph.D\" in text: text = text.replace(\"Ph.D.\",\"Ph<prd>D<prd>\")\n",
        "    text = re.sub(\"\\s\" + alphabets + \"[.] \",\" \\\\1<prd> \",text)\n",
        "    text = re.sub(acronyms+\" \"+starters,\"\\\\1<stop> \\\\2\",text)\n",
        "    text = re.sub(alphabets + \"[.]\" + alphabets + \"[.]\" + alphabets + \"[.]\",\"\\\\1<prd>\\\\2<prd>\\\\3<prd>\",text)\n",
        "    text = re.sub(alphabets + \"[.]\" + alphabets + \"[.]\",\"\\\\1<prd>\\\\2<prd>\",text)\n",
        "    text = re.sub(\" \"+suffixes+\"[.] \"+starters,\" \\\\1<stop> \\\\2\",text)\n",
        "    text = re.sub(\" \"+suffixes+\"[.]\",\" \\\\1<prd>\",text)\n",
        "    text = re.sub(\" \" + alphabets + \"[.]\",\" \\\\1<prd>\",text)\n",
        "    text = re.sub(digits + \"[.]\" + digits,\"\\\\1<prd>\\\\2\",text)\n",
        "    if \"”\" in text: text = text.replace(\".”\",\"”.\")\n",
        "    if \"\\\"\" in text: text = text.replace(\".\\\"\",\"\\\".\")\n",
        "    if \"!\" in text: text = text.replace(\"!\\\"\",\"\\\"!\")\n",
        "    if \"?\" in text: text = text.replace(\"?\\\"\",\"\\\"?\")\n",
        "    text = text.replace(\".\",\".<stop>\")\n",
        "    text = text.replace(\"?\",\"?<stop>\")\n",
        "    text = text.replace(\"!\",\"!<stop>\")\n",
        "    text = text.replace(\"<prd>\",\".\")\n",
        "    sentences = text.split(\"<stop>\")\n",
        "    sentences = sentences[:-1]\n",
        "    sentences = [s.strip() for s in sentences]\n",
        "    return sentences"
      ],
      "execution_count": null,
      "outputs": []
    },
    {
      "cell_type": "code",
      "metadata": {
        "id": "0YdC87ny4VsN",
        "colab_type": "code",
        "colab": {
          "base_uri": "https://localhost:8080/",
          "height": 221
        },
        "outputId": "e253d73d-72d5-4cfb-9bf7-b58de727a09a"
      },
      "source": [
        "split_into_sentences(df['story_tb'][1])[:10]\n",
        "# looks reasonble\n",
        "# I also want to filter out the really short sentences and keep only the first few for training the model. \n",
        "# Since having a strong start is critical for proposals"
      ],
      "execution_count": null,
      "outputs": [
        {
          "output_type": "execute_result",
          "data": {
            "text/plain": [
              "['The FishbowlA dark and magical film set in a brothel, an unexpected love, a strong-willed Russian madam and The Cross at its most fabulous!',\n",
              " 'harnessing a whirlwind of power, intrigue and obsession across two continents from russia to australia, the fishbowl draws you into the enticing world of kings cross, the characters who are drawn to it, and the one women who dares to control it all.',\n",
              " \"please help us fund this project, we can't do it without you!\",\n",
              " 'who are you?',\n",
              " 'hi.',\n",
              " 'i’m michele konrad, an independent filmmaker based in sydney, australia.',\n",
              " \"i’m getting ready to make an amazing film, the story of a heroic russian madam who sets up a brothel in sydney's iconic district of sin, king's cross.\",\n",
              " 'the film is called the fishbowl.',\n",
              " 'i’m so excited to be working with this wonderful creative team, including: paul j warren – cinematographer (the cup, milarepa) paul is one of australia’s most experienced directors of photography.',\n",
              " \"in addition to his feature film and narrative experience, he has shot documentaries for bbc natural history, national geographic and nova, in locations as various as antarctica, the arctic and the rainforest and was the official ‘behind the scenes’ filmmaker for all three of the matrix films.jonathan zwartz - composer (the sea, the remembering & forgetting of the air)jonathan's debut album ‘the sea’ won two bell awards, as well as being the best selling australian jazz release at birdland records in 2010 and 2011.\"]"
            ]
          },
          "metadata": {
            "tags": []
          },
          "execution_count": 9
        }
      ]
    },
    {
      "cell_type": "code",
      "metadata": {
        "id": "JXSTXTzmv3CB",
        "colab_type": "code",
        "colab": {
          "base_uri": "https://localhost:8080/",
          "height": 129
        },
        "outputId": "fc8015ef-749c-4547-e46b-1ef9203524eb"
      },
      "source": [
        "a = split_into_sentences(df['story_tb'][1])[:10]\n",
        "[z for z in a if len(z) > 20][:5]"
      ],
      "execution_count": null,
      "outputs": [
        {
          "output_type": "execute_result",
          "data": {
            "text/plain": [
              "['The FishbowlA dark and magical film set in a brothel, an unexpected love, a strong-willed Russian madam and The Cross at its most fabulous!',\n",
              " 'harnessing a whirlwind of power, intrigue and obsession across two continents from russia to australia, the fishbowl draws you into the enticing world of kings cross, the characters who are drawn to it, and the one women who dares to control it all.',\n",
              " \"please help us fund this project, we can't do it without you!\",\n",
              " 'i’m michele konrad, an independent filmmaker based in sydney, australia.',\n",
              " \"i’m getting ready to make an amazing film, the story of a heroic russian madam who sets up a brothel in sydney's iconic district of sin, king's cross.\"]"
            ]
          },
          "metadata": {
            "tags": []
          },
          "execution_count": 10
        }
      ]
    },
    {
      "cell_type": "code",
      "metadata": {
        "id": "gQIKK_KH9FmI",
        "colab_type": "code",
        "colab": {}
      },
      "source": [
        "def split_into_sentences_c(df, column_text = \"story_tb\", column_id = \"project_id\", slength = 20, snum = 5):\n",
        "  ids = []\n",
        "  sentences = []\n",
        "  for index, row in df.iterrows():\n",
        "    idd = row[column_id]\n",
        "    ss_raw = split_into_sentences(row[column_text])\n",
        "    ss = [z for z in ss_raw if len(z) > slength][:snum] # filter down to the first 5 sentences that aren't too short\n",
        "    ids.extend([str(idd)] * len(ss))\n",
        "    sentences.extend(ss)\n",
        "  print(len(ids))\n",
        "  dfsentence = pd.DataFrame(data = {column_id: ids, column_text: sentences})\n",
        "  return dfsentence"
      ],
      "execution_count": null,
      "outputs": []
    },
    {
      "cell_type": "code",
      "metadata": {
        "id": "Q9ij9odl5uoX",
        "colab_type": "code",
        "colab": {
          "base_uri": "https://localhost:8080/",
          "height": 424
        },
        "outputId": "58760441-eae5-42eb-a7ba-62a47576343a"
      },
      "source": [
        "dfs = df[['project_id', 'story_tb']].copy()\n",
        "dfs"
      ],
      "execution_count": null,
      "outputs": [
        {
          "output_type": "execute_result",
          "data": {
            "text/html": [
              "<div>\n",
              "<style scoped>\n",
              "    .dataframe tbody tr th:only-of-type {\n",
              "        vertical-align: middle;\n",
              "    }\n",
              "\n",
              "    .dataframe tbody tr th {\n",
              "        vertical-align: top;\n",
              "    }\n",
              "\n",
              "    .dataframe thead th {\n",
              "        text-align: right;\n",
              "    }\n",
              "</style>\n",
              "<table border=\"1\" class=\"dataframe\">\n",
              "  <thead>\n",
              "    <tr style=\"text-align: right;\">\n",
              "      <th></th>\n",
              "      <th>project_id</th>\n",
              "      <th>story_tb</th>\n",
              "    </tr>\n",
              "  </thead>\n",
              "  <tbody>\n",
              "    <tr>\n",
              "      <th>0</th>\n",
              "      <td>498799566</td>\n",
              "      <td>Strange Wit, an original graphic novel about J...</td>\n",
              "    </tr>\n",
              "    <tr>\n",
              "      <th>1</th>\n",
              "      <td>968368451</td>\n",
              "      <td>The FishbowlA dark and magical film set in a b...</td>\n",
              "    </tr>\n",
              "    <tr>\n",
              "      <th>2</th>\n",
              "      <td>1760442719</td>\n",
              "      <td>Publishing Magus MagazineWe are publishing a m...</td>\n",
              "    </tr>\n",
              "    <tr>\n",
              "      <th>3</th>\n",
              "      <td>1526833653</td>\n",
              "      <td>Living Life TinyEducating my community about s...</td>\n",
              "    </tr>\n",
              "    <tr>\n",
              "      <th>4</th>\n",
              "      <td>1745759340</td>\n",
              "      <td>GP LiveRewarding you for all of the things you...</td>\n",
              "    </tr>\n",
              "    <tr>\n",
              "      <th>...</th>\n",
              "      <td>...</td>\n",
              "      <td>...</td>\n",
              "    </tr>\n",
              "    <tr>\n",
              "      <th>2102</th>\n",
              "      <td>1150142009</td>\n",
              "      <td>Nightingale HorsesHORSE SLAUGHTER:One of the u...</td>\n",
              "    </tr>\n",
              "    <tr>\n",
              "      <th>2103</th>\n",
              "      <td>1660539605</td>\n",
              "      <td>I Want To Be A Professional Racing DriverMy go...</td>\n",
              "    </tr>\n",
              "    <tr>\n",
              "      <th>2104</th>\n",
              "      <td>1781536709</td>\n",
              "      <td>The Stone Sisters: LonerStone Sisters is an ol...</td>\n",
              "    </tr>\n",
              "    <tr>\n",
              "      <th>2105</th>\n",
              "      <td>915338604</td>\n",
              "      <td>The Noble GuardianThe mysterious legacy brings...</td>\n",
              "    </tr>\n",
              "    <tr>\n",
              "      <th>2106</th>\n",
              "      <td>1374948537</td>\n",
              "      <td>Ruby Scoops Ice Cream &amp; Sweets needs your help...</td>\n",
              "    </tr>\n",
              "  </tbody>\n",
              "</table>\n",
              "<p>2107 rows × 2 columns</p>\n",
              "</div>"
            ],
            "text/plain": [
              "      project_id                                           story_tb\n",
              "0      498799566  Strange Wit, an original graphic novel about J...\n",
              "1      968368451  The FishbowlA dark and magical film set in a b...\n",
              "2     1760442719  Publishing Magus MagazineWe are publishing a m...\n",
              "3     1526833653  Living Life TinyEducating my community about s...\n",
              "4     1745759340  GP LiveRewarding you for all of the things you...\n",
              "...          ...                                                ...\n",
              "2102  1150142009  Nightingale HorsesHORSE SLAUGHTER:One of the u...\n",
              "2103  1660539605  I Want To Be A Professional Racing DriverMy go...\n",
              "2104  1781536709  The Stone Sisters: LonerStone Sisters is an ol...\n",
              "2105   915338604  The Noble GuardianThe mysterious legacy brings...\n",
              "2106  1374948537  Ruby Scoops Ice Cream & Sweets needs your help...\n",
              "\n",
              "[2107 rows x 2 columns]"
            ]
          },
          "metadata": {
            "tags": []
          },
          "execution_count": 12
        }
      ]
    },
    {
      "cell_type": "code",
      "metadata": {
        "id": "KS-yZN47CUbH",
        "colab_type": "code",
        "colab": {
          "base_uri": "https://localhost:8080/",
          "height": 35
        },
        "outputId": "7ab36f15-a39c-4165-c260-1cf74adcd9c8"
      },
      "source": [
        "data_sentences = split_into_sentences_c(df = dfs.iloc[:10, :])"
      ],
      "execution_count": null,
      "outputs": [
        {
          "output_type": "stream",
          "text": [
            "48\n"
          ],
          "name": "stdout"
        }
      ]
    },
    {
      "cell_type": "code",
      "metadata": {
        "id": "yPluX9z2xWkl",
        "colab_type": "code",
        "colab": {
          "base_uri": "https://localhost:8080/",
          "height": 363
        },
        "outputId": "638fe086-c7b1-4da1-a90b-0fc4c85a961d"
      },
      "source": [
        "data_sentences[:10]\n",
        "# looks like reasonable sentences"
      ],
      "execution_count": null,
      "outputs": [
        {
          "output_type": "execute_result",
          "data": {
            "text/html": [
              "<div>\n",
              "<style scoped>\n",
              "    .dataframe tbody tr th:only-of-type {\n",
              "        vertical-align: middle;\n",
              "    }\n",
              "\n",
              "    .dataframe tbody tr th {\n",
              "        vertical-align: top;\n",
              "    }\n",
              "\n",
              "    .dataframe thead th {\n",
              "        text-align: right;\n",
              "    }\n",
              "</style>\n",
              "<table border=\"1\" class=\"dataframe\">\n",
              "  <thead>\n",
              "    <tr style=\"text-align: right;\">\n",
              "      <th></th>\n",
              "      <th>project_id</th>\n",
              "      <th>story_tb</th>\n",
              "    </tr>\n",
              "  </thead>\n",
              "  <tbody>\n",
              "    <tr>\n",
              "      <th>0</th>\n",
              "      <td>498799566</td>\n",
              "      <td>Strange Wit, an original graphic novel about J...</td>\n",
              "    </tr>\n",
              "    <tr>\n",
              "      <th>1</th>\n",
              "      <td>498799566</td>\n",
              "      <td>meet jane bowles: incredible author, inspiring...</td>\n",
              "    </tr>\n",
              "    <tr>\n",
              "      <th>2</th>\n",
              "      <td>498799566</td>\n",
              "      <td>jane may have been marginalized by the cultura...</td>\n",
              "    </tr>\n",
              "    <tr>\n",
              "      <th>3</th>\n",
              "      <td>498799566</td>\n",
              "      <td>jane drank more than she wrote, worried more t...</td>\n",
              "    </tr>\n",
              "    <tr>\n",
              "      <th>4</th>\n",
              "      <td>498799566</td>\n",
              "      <td>by almost any measure, jane led a fascinating ...</td>\n",
              "    </tr>\n",
              "    <tr>\n",
              "      <th>5</th>\n",
              "      <td>968368451</td>\n",
              "      <td>The FishbowlA dark and magical film set in a b...</td>\n",
              "    </tr>\n",
              "    <tr>\n",
              "      <th>6</th>\n",
              "      <td>968368451</td>\n",
              "      <td>harnessing a whirlwind of power, intrigue and ...</td>\n",
              "    </tr>\n",
              "    <tr>\n",
              "      <th>7</th>\n",
              "      <td>968368451</td>\n",
              "      <td>please help us fund this project, we can't do ...</td>\n",
              "    </tr>\n",
              "    <tr>\n",
              "      <th>8</th>\n",
              "      <td>968368451</td>\n",
              "      <td>i’m michele konrad, an independent filmmaker b...</td>\n",
              "    </tr>\n",
              "    <tr>\n",
              "      <th>9</th>\n",
              "      <td>968368451</td>\n",
              "      <td>i’m getting ready to make an amazing film, the...</td>\n",
              "    </tr>\n",
              "  </tbody>\n",
              "</table>\n",
              "</div>"
            ],
            "text/plain": [
              "  project_id                                           story_tb\n",
              "0  498799566  Strange Wit, an original graphic novel about J...\n",
              "1  498799566  meet jane bowles: incredible author, inspiring...\n",
              "2  498799566  jane may have been marginalized by the cultura...\n",
              "3  498799566  jane drank more than she wrote, worried more t...\n",
              "4  498799566  by almost any measure, jane led a fascinating ...\n",
              "5  968368451  The FishbowlA dark and magical film set in a b...\n",
              "6  968368451  harnessing a whirlwind of power, intrigue and ...\n",
              "7  968368451  please help us fund this project, we can't do ...\n",
              "8  968368451  i’m michele konrad, an independent filmmaker b...\n",
              "9  968368451  i’m getting ready to make an amazing film, the..."
            ]
          },
          "metadata": {
            "tags": []
          },
          "execution_count": 14
        }
      ]
    },
    {
      "cell_type": "code",
      "metadata": {
        "id": "dAqs4D7l2hH5",
        "colab_type": "code",
        "colab": {
          "base_uri": "https://localhost:8080/",
          "height": 35
        },
        "outputId": "73925655-65c1-48ad-8a73-8c3ffe04a0ea"
      },
      "source": [
        "data_sentences = split_into_sentences_c(df = dfs)"
      ],
      "execution_count": null,
      "outputs": [
        {
          "output_type": "stream",
          "text": [
            "10370\n"
          ],
          "name": "stdout"
        }
      ]
    },
    {
      "cell_type": "code",
      "metadata": {
        "id": "PEgdPDJdGmo3",
        "colab_type": "code",
        "colab": {}
      },
      "source": [
        "# save the sentece dataframe:\n",
        "#with open(base_dir + \"/project_data_sentences.pkl\", \"wb\") as f:\n",
        "#  pickle.dump(data_sentences, f)\n"
      ],
      "execution_count": null,
      "outputs": []
    },
    {
      "cell_type": "code",
      "metadata": {
        "id": "FW8x2IZH8CF_",
        "colab_type": "code",
        "colab": {
          "base_uri": "https://localhost:8080/",
          "height": 283
        },
        "outputId": "55ff6eab-af78-43be-d3a0-b39096a9a05e"
      },
      "source": [
        "df['performance_s'] = pd.cut(df['l_pledge'],\n",
        "                                 bins = [0, 1, 3, 4, 7], \n",
        "                                 labels = [0,1,3,4],\n",
        "                                 right = False)\n",
        "df['performance_s'].hist()\n",
        "# The bins aren't totally even, but close enough"
      ],
      "execution_count": null,
      "outputs": [
        {
          "output_type": "execute_result",
          "data": {
            "text/plain": [
              "<matplotlib.axes._subplots.AxesSubplot at 0x7f65589f1208>"
            ]
          },
          "metadata": {
            "tags": []
          },
          "execution_count": 16
        },
        {
          "output_type": "display_data",
          "data": {
            "image/png": "[encoded data removed]",
            "text/plain": [
              "<Figure size 432x288 with 1 Axes>"
            ]
          },
          "metadata": {
            "tags": [],
            "needs_background": "light"
          }
        }
      ]
    },
    {
      "cell_type": "code",
      "metadata": {
        "id": "ECOo585l8DN0",
        "colab_type": "code",
        "colab": {}
      },
      "source": [
        "# train test split:\n",
        "from sklearn.model_selection import train_test_split\n",
        "dat_train, dat_test, _, _ = train_test_split(df[['project_id', 'l_pledge', 'performance_s']], df[['project_id', 'l_pledge', 'performance_s']], \n",
        "                                             test_size = 0.20, random_state = 61, stratify = df[['name_parent']])\n"
      ],
      "execution_count": null,
      "outputs": []
    },
    {
      "cell_type": "code",
      "metadata": {
        "id": "-Sv0Xkh18Fe4",
        "colab_type": "code",
        "colab": {
          "base_uri": "https://localhost:8080/",
          "height": 35
        },
        "outputId": "7c6b19ff-9424-493d-cc29-c9d248466e84"
      },
      "source": [
        "data_train = data_sentences.astype({'project_id': 'int64'}).merge(dat_train, how='inner', on='project_id')\n",
        "data_test = data_sentences.astype({'project_id': 'int64'}).merge(dat_test, how='inner', on='project_id')\n",
        "data_train.shape, data_test.shape"
      ],
      "execution_count": null,
      "outputs": [
        {
          "output_type": "execute_result",
          "data": {
            "text/plain": [
              "((8294, 4), (2076, 4))"
            ]
          },
          "metadata": {
            "tags": []
          },
          "execution_count": 19
        }
      ]
    },
    {
      "cell_type": "code",
      "metadata": {
        "id": "4RD7YVcM9sbJ",
        "colab_type": "code",
        "colab": {
          "base_uri": "https://localhost:8080/",
          "height": 35
        },
        "outputId": "feecc39d-51ef-4968-dccf-e0e6164d6b43"
      },
      "source": [
        "data_train.shape, data_test.shape"
      ],
      "execution_count": null,
      "outputs": [
        {
          "output_type": "execute_result",
          "data": {
            "text/plain": [
              "((8294, 4), (2076, 4))"
            ]
          },
          "metadata": {
            "tags": []
          },
          "execution_count": 22
        }
      ]
    },
    {
      "cell_type": "code",
      "metadata": {
        "id": "3dfPQcCK8mSk",
        "colab_type": "code",
        "colab": {}
      },
      "source": [
        "# save the sentece dataframe:\n",
        "with open(base_dir + \"/project_data_sentences_train.pkl\", \"wb\") as f:\n",
        "  pickle.dump(data_train, f)\n",
        "\n",
        "with open(base_dir + \"/project_data_sentences_test.pkl\", \"wb\") as f:\n",
        "  pickle.dump(data_test, f)"
      ],
      "execution_count": null,
      "outputs": []
    }
  ]
}