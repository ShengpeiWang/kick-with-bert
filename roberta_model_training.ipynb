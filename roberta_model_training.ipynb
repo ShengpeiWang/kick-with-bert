{
  "nbformat": 4,
  "nbformat_minor": 0,
  "metadata": {
    "colab": {
      "name": "kick_roberta_fastai2.ipynb",
      "provenance": [],
      "collapsed_sections": [
        "7IGb5jCQ_EDt",
        "uQn2lVk2bJVN"
      ],
      "authorship_tag": "ABX9TyNmi7i9KNV7WyhHwQjGXSgR",
      "include_colab_link": true
    },
    "kernelspec": {
      "name": "python3",
      "display_name": "Python 3"
    },
    "widgets": {
      "application/vnd.jupyter.widget-state+json": {
        "91439223c1d6468581e9c04002bf72e5": {
          "model_module": "@jupyter-widgets/controls",
          "model_name": "HBoxModel",
          "state": {
            "_view_name": "HBoxView",
            "_dom_classes": [],
            "_model_name": "HBoxModel",
            "_view_module": "@jupyter-widgets/controls",
            "_model_module_version": "1.5.0",
            "_view_count": null,
            "_view_module_version": "1.5.0",
            "box_style": "",
            "layout": "IPY_MODEL_d06564a0311f43a0b55981acbf63f798",
            "_model_module": "@jupyter-widgets/controls",
            "children": [
              "IPY_MODEL_9b9defdcf42c4b2192925a733a538755",
              "IPY_MODEL_14fe3018bfdf45ecbb7b1eaf2832408d"
            ]
          }
        },
        "d06564a0311f43a0b55981acbf63f798": {
          "model_module": "@jupyter-widgets/base",
          "model_name": "LayoutModel",
          "state": {
            "_view_name": "LayoutView",
            "grid_template_rows": null,
            "right": null,
            "justify_content": null,
            "_view_module": "@jupyter-widgets/base",
            "overflow": null,
            "_model_module_version": "1.2.0",
            "_view_count": null,
            "flex_flow": null,
            "width": null,
            "min_width": null,
            "border": null,
            "align_items": null,
            "bottom": null,
            "_model_module": "@jupyter-widgets/base",
            "top": null,
            "grid_column": null,
            "overflow_y": null,
            "overflow_x": null,
            "grid_auto_flow": null,
            "grid_area": null,
            "grid_template_columns": null,
            "flex": null,
            "_model_name": "LayoutModel",
            "justify_items": null,
            "grid_row": null,
            "max_height": null,
            "align_content": null,
            "visibility": null,
            "align_self": null,
            "height": null,
            "min_height": null,
            "padding": null,
            "grid_auto_rows": null,
            "grid_gap": null,
            "max_width": null,
            "order": null,
            "_view_module_version": "1.2.0",
            "grid_template_areas": null,
            "object_position": null,
            "object_fit": null,
            "grid_auto_columns": null,
            "margin": null,
            "display": null,
            "left": null
          }
        },
        "9b9defdcf42c4b2192925a733a538755": {
          "model_module": "@jupyter-widgets/controls",
          "model_name": "FloatProgressModel",
          "state": {
            "_view_name": "ProgressView",
            "style": "IPY_MODEL_171040f3977b480bae2b1e4249e410b2",
            "_dom_classes": [],
            "description": "Downloading: 100%",
            "_model_name": "FloatProgressModel",
            "bar_style": "success",
            "max": 898823,
            "_view_module": "@jupyter-widgets/controls",
            "_model_module_version": "1.5.0",
            "value": 898823,
            "_view_count": null,
            "_view_module_version": "1.5.0",
            "orientation": "horizontal",
            "min": 0,
            "description_tooltip": null,
            "_model_module": "@jupyter-widgets/controls",
            "layout": "IPY_MODEL_50329470c6ca4dfa952d61bd66cbbc36"
          }
        },
        "14fe3018bfdf45ecbb7b1eaf2832408d": {
          "model_module": "@jupyter-widgets/controls",
          "model_name": "HTMLModel",
          "state": {
            "_view_name": "HTMLView",
            "style": "IPY_MODEL_ab08376bd88c47c6a9cc28325f616dec",
            "_dom_classes": [],
            "description": "",
            "_model_name": "HTMLModel",
            "placeholder": "​",
            "_view_module": "@jupyter-widgets/controls",
            "_model_module_version": "1.5.0",
            "value": " 899k/899k [00:00&lt;00:00, 1.99MB/s]",
            "_view_count": null,
            "_view_module_version": "1.5.0",
            "description_tooltip": null,
            "_model_module": "@jupyter-widgets/controls",
            "layout": "IPY_MODEL_45843da0f1b844f7b80a7c71c0ab27ba"
          }
        },
        "171040f3977b480bae2b1e4249e410b2": {
          "model_module": "@jupyter-widgets/controls",
          "model_name": "ProgressStyleModel",
          "state": {
            "_view_name": "StyleView",
            "_model_name": "ProgressStyleModel",
            "description_width": "initial",
            "_view_module": "@jupyter-widgets/base",
            "_model_module_version": "1.5.0",
            "_view_count": null,
            "_view_module_version": "1.2.0",
            "bar_color": null,
            "_model_module": "@jupyter-widgets/controls"
          }
        },
        "50329470c6ca4dfa952d61bd66cbbc36": {
          "model_module": "@jupyter-widgets/base",
          "model_name": "LayoutModel",
          "state": {
            "_view_name": "LayoutView",
            "grid_template_rows": null,
            "right": null,
            "justify_content": null,
            "_view_module": "@jupyter-widgets/base",
            "overflow": null,
            "_model_module_version": "1.2.0",
            "_view_count": null,
            "flex_flow": null,
            "width": null,
            "min_width": null,
            "border": null,
            "align_items": null,
            "bottom": null,
            "_model_module": "@jupyter-widgets/base",
            "top": null,
            "grid_column": null,
            "overflow_y": null,
            "overflow_x": null,
            "grid_auto_flow": null,
            "grid_area": null,
            "grid_template_columns": null,
            "flex": null,
            "_model_name": "LayoutModel",
            "justify_items": null,
            "grid_row": null,
            "max_height": null,
            "align_content": null,
            "visibility": null,
            "align_self": null,
            "height": null,
            "min_height": null,
            "padding": null,
            "grid_auto_rows": null,
            "grid_gap": null,
            "max_width": null,
            "order": null,
            "_view_module_version": "1.2.0",
            "grid_template_areas": null,
            "object_position": null,
            "object_fit": null,
            "grid_auto_columns": null,
            "margin": null,
            "display": null,
            "left": null
          }
        },
        "ab08376bd88c47c6a9cc28325f616dec": {
          "model_module": "@jupyter-widgets/controls",
          "model_name": "DescriptionStyleModel",
          "state": {
            "_view_name": "StyleView",
            "_model_name": "DescriptionStyleModel",
            "description_width": "",
            "_view_module": "@jupyter-widgets/base",
            "_model_module_version": "1.5.0",
            "_view_count": null,
            "_view_module_version": "1.2.0",
            "_model_module": "@jupyter-widgets/controls"
          }
        },
        "45843da0f1b844f7b80a7c71c0ab27ba": {
          "model_module": "@jupyter-widgets/base",
          "model_name": "LayoutModel",
          "state": {
            "_view_name": "LayoutView",
            "grid_template_rows": null,
            "right": null,
            "justify_content": null,
            "_view_module": "@jupyter-widgets/base",
            "overflow": null,
            "_model_module_version": "1.2.0",
            "_view_count": null,
            "flex_flow": null,
            "width": null,
            "min_width": null,
            "border": null,
            "align_items": null,
            "bottom": null,
            "_model_module": "@jupyter-widgets/base",
            "top": null,
            "grid_column": null,
            "overflow_y": null,
            "overflow_x": null,
            "grid_auto_flow": null,
            "grid_area": null,
            "grid_template_columns": null,
            "flex": null,
            "_model_name": "LayoutModel",
            "justify_items": null,
            "grid_row": null,
            "max_height": null,
            "align_content": null,
            "visibility": null,
            "align_self": null,
            "height": null,
            "min_height": null,
            "padding": null,
            "grid_auto_rows": null,
            "grid_gap": null,
            "max_width": null,
            "order": null,
            "_view_module_version": "1.2.0",
            "grid_template_areas": null,
            "object_position": null,
            "object_fit": null,
            "grid_auto_columns": null,
            "margin": null,
            "display": null,
            "left": null
          }
        },
        "7099a8bc2ba14d2e95805efc00ca85cb": {
          "model_module": "@jupyter-widgets/controls",
          "model_name": "HBoxModel",
          "state": {
            "_view_name": "HBoxView",
            "_dom_classes": [],
            "_model_name": "HBoxModel",
            "_view_module": "@jupyter-widgets/controls",
            "_model_module_version": "1.5.0",
            "_view_count": null,
            "_view_module_version": "1.5.0",
            "box_style": "",
            "layout": "IPY_MODEL_66d6468d2fb1490ca055e8cb504dda6c",
            "_model_module": "@jupyter-widgets/controls",
            "children": [
              "IPY_MODEL_078de2abd5ba4a7b832e90552e65021d",
              "IPY_MODEL_08a50e7384c047c9b99f38690af27f4b"
            ]
          }
        },
        "66d6468d2fb1490ca055e8cb504dda6c": {
          "model_module": "@jupyter-widgets/base",
          "model_name": "LayoutModel",
          "state": {
            "_view_name": "LayoutView",
            "grid_template_rows": null,
            "right": null,
            "justify_content": null,
            "_view_module": "@jupyter-widgets/base",
            "overflow": null,
            "_model_module_version": "1.2.0",
            "_view_count": null,
            "flex_flow": null,
            "width": null,
            "min_width": null,
            "border": null,
            "align_items": null,
            "bottom": null,
            "_model_module": "@jupyter-widgets/base",
            "top": null,
            "grid_column": null,
            "overflow_y": null,
            "overflow_x": null,
            "grid_auto_flow": null,
            "grid_area": null,
            "grid_template_columns": null,
            "flex": null,
            "_model_name": "LayoutModel",
            "justify_items": null,
            "grid_row": null,
            "max_height": null,
            "align_content": null,
            "visibility": null,
            "align_self": null,
            "height": null,
            "min_height": null,
            "padding": null,
            "grid_auto_rows": null,
            "grid_gap": null,
            "max_width": null,
            "order": null,
            "_view_module_version": "1.2.0",
            "grid_template_areas": null,
            "object_position": null,
            "object_fit": null,
            "grid_auto_columns": null,
            "margin": null,
            "display": null,
            "left": null
          }
        },
        "078de2abd5ba4a7b832e90552e65021d": {
          "model_module": "@jupyter-widgets/controls",
          "model_name": "FloatProgressModel",
          "state": {
            "_view_name": "ProgressView",
            "style": "IPY_MODEL_0dc96152fd33424b9892317ba0c4a8c1",
            "_dom_classes": [],
            "description": "Downloading: 100%",
            "_model_name": "FloatProgressModel",
            "bar_style": "success",
            "max": 456318,
            "_view_module": "@jupyter-widgets/controls",
            "_model_module_version": "1.5.0",
            "value": 456318,
            "_view_count": null,
            "_view_module_version": "1.5.0",
            "orientation": "horizontal",
            "min": 0,
            "description_tooltip": null,
            "_model_module": "@jupyter-widgets/controls",
            "layout": "IPY_MODEL_e52ab3927c3844eeae2674791b376085"
          }
        },
        "08a50e7384c047c9b99f38690af27f4b": {
          "model_module": "@jupyter-widgets/controls",
          "model_name": "HTMLModel",
          "state": {
            "_view_name": "HTMLView",
            "style": "IPY_MODEL_f3ffc5edbb8c4883a1cabf37ef95d148",
            "_dom_classes": [],
            "description": "",
            "_model_name": "HTMLModel",
            "placeholder": "​",
            "_view_module": "@jupyter-widgets/controls",
            "_model_module_version": "1.5.0",
            "value": " 456k/456k [00:00&lt;00:00, 2.64MB/s]",
            "_view_count": null,
            "_view_module_version": "1.5.0",
            "description_tooltip": null,
            "_model_module": "@jupyter-widgets/controls",
            "layout": "IPY_MODEL_fa26a615cd844322b00be3d55ac415f0"
          }
        },
        "0dc96152fd33424b9892317ba0c4a8c1": {
          "model_module": "@jupyter-widgets/controls",
          "model_name": "ProgressStyleModel",
          "state": {
            "_view_name": "StyleView",
            "_model_name": "ProgressStyleModel",
            "description_width": "initial",
            "_view_module": "@jupyter-widgets/base",
            "_model_module_version": "1.5.0",
            "_view_count": null,
            "_view_module_version": "1.2.0",
            "bar_color": null,
            "_model_module": "@jupyter-widgets/controls"
          }
        },
        "e52ab3927c3844eeae2674791b376085": {
          "model_module": "@jupyter-widgets/base",
          "model_name": "LayoutModel",
          "state": {
            "_view_name": "LayoutView",
            "grid_template_rows": null,
            "right": null,
            "justify_content": null,
            "_view_module": "@jupyter-widgets/base",
            "overflow": null,
            "_model_module_version": "1.2.0",
            "_view_count": null,
            "flex_flow": null,
            "width": null,
            "min_width": null,
            "border": null,
            "align_items": null,
            "bottom": null,
            "_model_module": "@jupyter-widgets/base",
            "top": null,
            "grid_column": null,
            "overflow_y": null,
            "overflow_x": null,
            "grid_auto_flow": null,
            "grid_area": null,
            "grid_template_columns": null,
            "flex": null,
            "_model_name": "LayoutModel",
            "justify_items": null,
            "grid_row": null,
            "max_height": null,
            "align_content": null,
            "visibility": null,
            "align_self": null,
            "height": null,
            "min_height": null,
            "padding": null,
            "grid_auto_rows": null,
            "grid_gap": null,
            "max_width": null,
            "order": null,
            "_view_module_version": "1.2.0",
            "grid_template_areas": null,
            "object_position": null,
            "object_fit": null,
            "grid_auto_columns": null,
            "margin": null,
            "display": null,
            "left": null
          }
        },
        "f3ffc5edbb8c4883a1cabf37ef95d148": {
          "model_module": "@jupyter-widgets/controls",
          "model_name": "DescriptionStyleModel",
          "state": {
            "_view_name": "StyleView",
            "_model_name": "DescriptionStyleModel",
            "description_width": "",
            "_view_module": "@jupyter-widgets/base",
            "_model_module_version": "1.5.0",
            "_view_count": null,
            "_view_module_version": "1.2.0",
            "_model_module": "@jupyter-widgets/controls"
          }
        },
        "fa26a615cd844322b00be3d55ac415f0": {
          "model_module": "@jupyter-widgets/base",
          "model_name": "LayoutModel",
          "state": {
            "_view_name": "LayoutView",
            "grid_template_rows": null,
            "right": null,
            "justify_content": null,
            "_view_module": "@jupyter-widgets/base",
            "overflow": null,
            "_model_module_version": "1.2.0",
            "_view_count": null,
            "flex_flow": null,
            "width": null,
            "min_width": null,
            "border": null,
            "align_items": null,
            "bottom": null,
            "_model_module": "@jupyter-widgets/base",
            "top": null,
            "grid_column": null,
            "overflow_y": null,
            "overflow_x": null,
            "grid_auto_flow": null,
            "grid_area": null,
            "grid_template_columns": null,
            "flex": null,
            "_model_name": "LayoutModel",
            "justify_items": null,
            "grid_row": null,
            "max_height": null,
            "align_content": null,
            "visibility": null,
            "align_self": null,
            "height": null,
            "min_height": null,
            "padding": null,
            "grid_auto_rows": null,
            "grid_gap": null,
            "max_width": null,
            "order": null,
            "_view_module_version": "1.2.0",
            "grid_template_areas": null,
            "object_position": null,
            "object_fit": null,
            "grid_auto_columns": null,
            "margin": null,
            "display": null,
            "left": null
          }
        }
      }
    }
  },
  "cells": [
    {
      "cell_type": "markdown",
      "metadata": {
        "id": "view-in-github",
        "colab_type": "text"
      },
      "source": [
        "<a href=\"https://colab.research.google.com/github/ShengpeiWang/kick-with-bert/blob/master/roberta_model_training.ipynb\" target=\"_parent\"><img src=\"https://colab.research.google.com/assets/colab-badge.svg\" alt=\"Open In Colab\"/></a>"
      ]
    },
    {
      "cell_type": "markdown",
      "metadata": {
        "id": "C0YtXYgndYwf",
        "colab_type": "text"
      },
      "source": [
        "#Kickstarter project classification using tranfer learning with the RoBERTa model\n",
        "In the previous iterations of the project, I have struggled with model performance, and TF-IDF and ULMfit both performed suboptimally. I have have been learning about more modern NLP techniques, and I am going to apply the RoBERTa model to my kickstarter data using HuggingFace.\n",
        "\n"
      ]
    },
    {
      "cell_type": "code",
      "metadata": {
        "id": "VKR6bv7DdBHT",
        "colab_type": "code",
        "colab": {
          "base_uri": "https://localhost:8080/",
          "height": 606
        },
        "outputId": "15d109e9-4239-4ede-a19f-2fe8e303e822"
      },
      "source": [
        "# remember to turn the GPU on\n",
        "# first install the tranformers library where the RoBERTa model info is\n",
        "%%bash\n",
        "pip install transformers"
      ],
      "execution_count": 1,
      "outputs": [
        {
          "output_type": "stream",
          "text": [
            "Collecting transformers\n",
            "  Downloading https://files.pythonhosted.org/packages/9c/35/1c3f6e62d81f5f0daff1384e6d5e6c5758682a8357ebc765ece2b9def62b/transformers-3.0.0-py3-none-any.whl (754kB)\n",
            "Requirement already satisfied: regex!=2019.12.17 in /usr/local/lib/python3.6/dist-packages (from transformers) (2019.12.20)\n",
            "Requirement already satisfied: numpy in /usr/local/lib/python3.6/dist-packages (from transformers) (1.18.5)\n",
            "Requirement already satisfied: dataclasses; python_version < \"3.7\" in /usr/local/lib/python3.6/dist-packages (from transformers) (0.7)\n",
            "Requirement already satisfied: tqdm>=4.27 in /usr/local/lib/python3.6/dist-packages (from transformers) (4.41.1)\n",
            "Collecting sentencepiece\n",
            "  Downloading https://files.pythonhosted.org/packages/d4/a4/d0a884c4300004a78cca907a6ff9a5e9fe4f090f5d95ab341c53d28cbc58/sentencepiece-0.1.91-cp36-cp36m-manylinux1_x86_64.whl (1.1MB)\n",
            "Requirement already satisfied: packaging in /usr/local/lib/python3.6/dist-packages (from transformers) (20.4)\n",
            "Collecting tokenizers==0.8.0-rc4\n",
            "  Downloading https://files.pythonhosted.org/packages/e8/bd/e5abec46af977c8a1375c1dca7cb1e5b3ec392ef279067af7f6bc50491a0/tokenizers-0.8.0rc4-cp36-cp36m-manylinux1_x86_64.whl (3.0MB)\n",
            "Requirement already satisfied: requests in /usr/local/lib/python3.6/dist-packages (from transformers) (2.23.0)\n",
            "Requirement already satisfied: filelock in /usr/local/lib/python3.6/dist-packages (from transformers) (3.0.12)\n",
            "Collecting sacremoses\n",
            "  Downloading https://files.pythonhosted.org/packages/7d/34/09d19aff26edcc8eb2a01bed8e98f13a1537005d31e95233fd48216eed10/sacremoses-0.0.43.tar.gz (883kB)\n",
            "Requirement already satisfied: six in /usr/local/lib/python3.6/dist-packages (from packaging->transformers) (1.12.0)\n",
            "Requirement already satisfied: pyparsing>=2.0.2 in /usr/local/lib/python3.6/dist-packages (from packaging->transformers) (2.4.7)\n",
            "Requirement already satisfied: urllib3!=1.25.0,!=1.25.1,<1.26,>=1.21.1 in /usr/local/lib/python3.6/dist-packages (from requests->transformers) (1.24.3)\n",
            "Requirement already satisfied: certifi>=2017.4.17 in /usr/local/lib/python3.6/dist-packages (from requests->transformers) (2020.6.20)\n",
            "Requirement already satisfied: idna<3,>=2.5 in /usr/local/lib/python3.6/dist-packages (from requests->transformers) (2.9)\n",
            "Requirement already satisfied: chardet<4,>=3.0.2 in /usr/local/lib/python3.6/dist-packages (from requests->transformers) (3.0.4)\n",
            "Requirement already satisfied: click in /usr/local/lib/python3.6/dist-packages (from sacremoses->transformers) (7.1.2)\n",
            "Requirement already satisfied: joblib in /usr/local/lib/python3.6/dist-packages (from sacremoses->transformers) (0.15.1)\n",
            "Building wheels for collected packages: sacremoses\n",
            "  Building wheel for sacremoses (setup.py): started\n",
            "  Building wheel for sacremoses (setup.py): finished with status 'done'\n",
            "  Created wheel for sacremoses: filename=sacremoses-0.0.43-cp36-none-any.whl size=893260 sha256=5828339916e9dce0a5bde5b1684f1db3f6828296381f407a38ab1ebdebfb4c61\n",
            "  Stored in directory: /root/.cache/pip/wheels/29/3c/fd/7ce5c3f0666dab31a50123635e6fb5e19ceb42ce38d4e58f45\n",
            "Successfully built sacremoses\n",
            "Installing collected packages: sentencepiece, tokenizers, sacremoses, transformers\n",
            "Successfully installed sacremoses-0.0.43 sentencepiece-0.1.91 tokenizers-0.8.0rc4 transformers-3.0.0\n"
          ],
          "name": "stdout"
        }
      ]
    },
    {
      "cell_type": "code",
      "metadata": {
        "id": "yKT4nX0M-e0I",
        "colab_type": "code",
        "colab": {
          "base_uri": "https://localhost:8080/",
          "height": 74
        },
        "outputId": "2cd702a3-7465-4844-87d5-bf4b5a95e4e6"
      },
      "source": [
        "# set up other dependencies\n",
        "# for data input and output\n",
        "from google.colab import drive\n",
        "import pickle\n",
        "import pandas as pd\n",
        "\n",
        "# for visualization\n",
        "import seaborn as sns\n",
        "\n",
        "# for model building and fitting\n",
        "import torch\n",
        "from fastai.text import *\n",
        "from fastai.metrics import *\n",
        "\n",
        "# for getting the pretrained model and tokenizer of the Roberta model\n",
        "from transformers import RobertaTokenizer, RobertaModel"
      ],
      "execution_count": 2,
      "outputs": [
        {
          "output_type": "stream",
          "text": [
            "/usr/local/lib/python3.6/dist-packages/statsmodels/tools/_testing.py:19: FutureWarning: pandas.util.testing is deprecated. Use the functions in the public API at pandas.testing instead.\n",
            "  import pandas.util.testing as tm\n"
          ],
          "name": "stderr"
        }
      ]
    },
    {
      "cell_type": "markdown",
      "metadata": {
        "id": "uDLuLi0S12js",
        "colab_type": "text"
      },
      "source": [
        "## Import and preprocess the data\n"
      ]
    },
    {
      "cell_type": "code",
      "metadata": {
        "id": "K8teoOiv37K4",
        "colab_type": "code",
        "colab": {
          "base_uri": "https://localhost:8080/",
          "height": 129
        },
        "outputId": "50c078ef-09c0-4cd5-cd74-fb1e83a63530"
      },
      "source": [
        "# local drive set up, so I can access data in Googel drive \n",
        "drive.mount('/content/gdrive', force_remount=True)\n",
        "root_dir = \"/content/gdrive/My Drive/\"\n",
        "base_dir = root_dir + 'fastai-v3/kick'"
      ],
      "execution_count": 3,
      "outputs": [
        {
          "output_type": "stream",
          "text": [
            "Go to this URL in a browser: https://accounts.google.com/o/oauth2/auth?client_id=947318989803-6bn6qk8qdgf4n4g3pfee6491hc0brc4i.apps.googleusercontent.com&redirect_uri=urn%3aietf%3awg%3aoauth%3a2.0%3aoob&response_type=code&scope=email%20https%3a%2f%2fwww.googleapis.com%2fauth%2fdocs.test%20https%3a%2f%2fwww.googleapis.com%2fauth%2fdrive%20https%3a%2f%2fwww.googleapis.com%2fauth%2fdrive.photos.readonly%20https%3a%2f%2fwww.googleapis.com%2fauth%2fpeopleapi.readonly\n",
            "\n",
            "Enter your authorization code:\n",
            "··········\n",
            "Mounted at /content/gdrive\n"
          ],
          "name": "stdout"
        }
      ]
    },
    {
      "cell_type": "markdown",
      "metadata": {
        "id": "roe53KY892_h",
        "colab_type": "text"
      },
      "source": [
        "## Load the Kickstarter data\n",
        "- I split the proposal text into sentences and kept the first five sentences that were at least 20 characters long. I did this because Bert type models works best on short to medium lenghted text, and the beginning of a proposal is the most important.      \n",
        "- Code for the data cleaning can be found in another file."
      ]
    },
    {
      "cell_type": "code",
      "metadata": {
        "id": "rEq9YScm9Dsz",
        "colab_type": "code",
        "colab": {}
      },
      "source": [
        "with open(base_dir + \"/project_data_sentences_train.pkl\", \"rb\") as f:\n",
        "  data_train = pickle.load(f)\n",
        "\n",
        "with open(base_dir + \"/project_data_sentences_test.pkl\", \"rb\") as f:\n",
        "  data_test = pickle.load(f)"
      ],
      "execution_count": 4,
      "outputs": []
    },
    {
      "cell_type": "code",
      "metadata": {
        "id": "DM28-R_LBKpu",
        "colab_type": "code",
        "colab": {
          "base_uri": "https://localhost:8080/",
          "height": 109
        },
        "outputId": "1a97e634-754c-4cad-c931-466d6e06a1a7"
      },
      "source": [
        "data_train.dtypes"
      ],
      "execution_count": 5,
      "outputs": [
        {
          "output_type": "execute_result",
          "data": {
            "text/plain": [
              "project_id          int64\n",
              "story_tb           object\n",
              "l_pledge          float64\n",
              "performance_s    category\n",
              "dtype: object"
            ]
          },
          "metadata": {
            "tags": []
          },
          "execution_count": 5
        }
      ]
    },
    {
      "cell_type": "markdown",
      "metadata": {
        "id": "lw9GY0LgDsge",
        "colab_type": "text"
      },
      "source": [
        "## Determine maximum token length\n",
        "- Since Roberta works with fixed input lenght, it's importnat to pick a number that's appropriate"
      ]
    },
    {
      "cell_type": "code",
      "metadata": {
        "id": "WE5lUsw2-uze",
        "colab_type": "code",
        "colab": {
          "base_uri": "https://localhost:8080/",
          "height": 118,
          "referenced_widgets": [
            "91439223c1d6468581e9c04002bf72e5",
            "d06564a0311f43a0b55981acbf63f798",
            "9b9defdcf42c4b2192925a733a538755",
            "14fe3018bfdf45ecbb7b1eaf2832408d",
            "171040f3977b480bae2b1e4249e410b2",
            "50329470c6ca4dfa952d61bd66cbbc36",
            "ab08376bd88c47c6a9cc28325f616dec",
            "45843da0f1b844f7b80a7c71c0ab27ba",
            "7099a8bc2ba14d2e95805efc00ca85cb",
            "66d6468d2fb1490ca055e8cb504dda6c",
            "078de2abd5ba4a7b832e90552e65021d",
            "08a50e7384c047c9b99f38690af27f4b",
            "0dc96152fd33424b9892317ba0c4a8c1",
            "e52ab3927c3844eeae2674791b376085",
            "f3ffc5edbb8c4883a1cabf37ef95d148",
            "fa26a615cd844322b00be3d55ac415f0"
          ]
        },
        "outputId": "2d383d29-97d6-46ac-d892-89bfb854dcc0"
      },
      "source": [
        "# Download the pretrained tokenizer and model\n",
        "roberta_tokenizer = RobertaTokenizer.from_pretrained(\"roberta-base\")\n",
        "#roberta_model = RobertaModel.from_pretrained(\"roberta-base\")"
      ],
      "execution_count": 6,
      "outputs": [
        {
          "output_type": "display_data",
          "data": {
            "application/vnd.jupyter.widget-view+json": {
              "model_id": "91439223c1d6468581e9c04002bf72e5",
              "version_minor": 0,
              "version_major": 2
            },
            "text/plain": [
              "HBox(children=(FloatProgress(value=0.0, description='Downloading', max=898823.0, style=ProgressStyle(descripti…"
            ]
          },
          "metadata": {
            "tags": []
          }
        },
        {
          "output_type": "stream",
          "text": [
            "\n"
          ],
          "name": "stdout"
        },
        {
          "output_type": "display_data",
          "data": {
            "application/vnd.jupyter.widget-view+json": {
              "model_id": "7099a8bc2ba14d2e95805efc00ca85cb",
              "version_minor": 0,
              "version_major": 2
            },
            "text/plain": [
              "HBox(children=(FloatProgress(value=0.0, description='Downloading', max=456318.0, style=ProgressStyle(descripti…"
            ]
          },
          "metadata": {
            "tags": []
          }
        },
        {
          "output_type": "stream",
          "text": [
            "\n"
          ],
          "name": "stdout"
        }
      ]
    },
    {
      "cell_type": "code",
      "metadata": {
        "id": "JiBvDsk_HLSb",
        "colab_type": "code",
        "colab": {}
      },
      "source": [
        "# visualize the token length of the data\n",
        "token_lens = []\n",
        "\n",
        "for txt in data_train['story_tb']:\n",
        "  tokens = roberta_tokenizer.encode(txt, truncation = True, max_length = 512)\n",
        "  token_lens.append(len(tokens))"
      ],
      "execution_count": 8,
      "outputs": []
    },
    {
      "cell_type": "code",
      "metadata": {
        "id": "v0mhv4-8HejQ",
        "colab_type": "code",
        "colab": {
          "base_uri": "https://localhost:8080/",
          "height": 283
        },
        "outputId": "8fde7685-188b-454b-c15b-eb86c8ababad"
      },
      "source": [
        "sns.distplot(token_lens)\n",
        "# the max seq lenght should be around 100"
      ],
      "execution_count": 9,
      "outputs": [
        {
          "output_type": "execute_result",
          "data": {
            "text/plain": [
              "<matplotlib.axes._subplots.AxesSubplot at 0x7f0077e91ba8>"
            ]
          },
          "metadata": {
            "tags": []
          },
          "execution_count": 9
        },
        {
          "output_type": "display_data",
          "data": {
            "image/png": "[encoded data removed]",
            "text/plain": [
              "<Figure size 432x288 with 1 Axes>"
            ]
          },
          "metadata": {
            "tags": [],
            "needs_background": "light"
          }
        }
      ]
    },
    {
      "cell_type": "markdown",
      "metadata": {
        "id": "jQNn5a7KyjqZ",
        "colab_type": "text"
      },
      "source": [
        "## Define classes that would allow the tokenizer to work with fastai's data structure\n",
        "- fastai implements some really useful utilities for model training\n",
        "- including learning rate finder, gradual unfreeze of a model, and triangular learning rates"
      ]
    },
    {
      "cell_type": "code",
      "metadata": {
        "id": "jTOG4cPKDlz5",
        "colab_type": "code",
        "colab": {}
      },
      "source": [
        "class TransformersBaseTokenizer(BaseTokenizer):\n",
        "    \"\"\"Wrapper around PreTrainedTokenizer to be compatible with fast.ai\"\"\"\n",
        "    def __init__(self, pretrained_tokenizer, max_len, **kwargs):\n",
        "        self._pretrained_tokenizer = pretrained_tokenizer\n",
        "        self.max_seq_len = max_len\n",
        "\n",
        "    def __call__(self, *args, **kwargs): \n",
        "        return self\n",
        "\n",
        "    def tokenizer(self, t:str) -> List[str]:\n",
        "        \"\"\"Limits the maximum sequence length and add the spesial tokens\"\"\"\n",
        "        CLS = self._pretrained_tokenizer.cls_token\n",
        "        SEP = self._pretrained_tokenizer.sep_token\n",
        "        tokens = self._pretrained_tokenizer.tokenize(t, add_prefix_space=True)[:self.max_seq_len - 2]\n",
        "        return [CLS] + tokens + [SEP]"
      ],
      "execution_count": 10,
      "outputs": []
    },
    {
      "cell_type": "code",
      "metadata": {
        "id": "RJD6ofbPEd9F",
        "colab_type": "code",
        "colab": {}
      },
      "source": [
        "class TransformersVocab(Vocab):\n",
        "    def __init__(self, tokenizer):\n",
        "        super(TransformersVocab, self).__init__(itos = [])\n",
        "        self.tokenizer = tokenizer\n",
        "    \n",
        "    def numericalize(self, t:Collection[str]) -> List[int]:\n",
        "        \"Convert a list of tokens `t` to their ids.\"\n",
        "        return self.tokenizer.convert_tokens_to_ids(t)\n",
        "        #return self.tokenizer.encode(t)\n",
        "\n",
        "    def textify(self, nums:Collection[int], sep=' ') -> List[str]:\n",
        "        \"Convert a list of `nums` to their tokens.\"\n",
        "        nums = np.array(nums).tolist()\n",
        "        return sep.join(self.tokenizer.convert_ids_to_tokens(nums)) if sep is not None else self.tokenizer.convert_ids_to_tokens(nums)"
      ],
      "execution_count": 11,
      "outputs": []
    },
    {
      "cell_type": "code",
      "metadata": {
        "id": "7NA2eIHHEI9z",
        "colab_type": "code",
        "colab": {}
      },
      "source": [
        "transformer_base_tokenizer = TransformersBaseTokenizer(pretrained_tokenizer = roberta_tokenizer, max_len = 100)\n",
        "fastai_tokenizer = Tokenizer(tok_func = transformer_base_tokenizer, pre_rules=[], post_rules=[])\n",
        "tokenize_processor = TokenizeProcessor(tokenizer=fastai_tokenizer, include_bos=False, include_eos=False)"
      ],
      "execution_count": 12,
      "outputs": []
    },
    {
      "cell_type": "code",
      "metadata": {
        "id": "QmdF3fO4ErOo",
        "colab_type": "code",
        "colab": {}
      },
      "source": [
        "transformer_vocab =  TransformersVocab(tokenizer = roberta_tokenizer)\n",
        "numericalize_processor = NumericalizeProcessor(vocab = transformer_vocab)\n",
        "\n",
        "transformer_processor = [tokenize_processor, numericalize_processor]"
      ],
      "execution_count": 13,
      "outputs": []
    },
    {
      "cell_type": "markdown",
      "metadata": {
        "id": "ZtX6_oHoznjf",
        "colab_type": "text"
      },
      "source": [
        "## Creat the databunch:\n",
        "- bind training and testing data in a data object\n",
        "- includes preprocessing (apply the tokenizer), identifying features and lables, and creating dataloaders\n",
        "- puts the dataloaders on device"
      ]
    },
    {
      "cell_type": "code",
      "metadata": {
        "id": "YKLzf60lFLeP",
        "colab_type": "code",
        "colab": {
          "base_uri": "https://localhost:8080/",
          "height": 17
        },
        "outputId": "458311c8-9376-4ac9-9e1c-53214055e53f"
      },
      "source": [
        "pad_first = False\n",
        "pad_idx = roberta_tokenizer.pad_token_id\n",
        "bs = 8\n",
        "\n",
        "# process the data: \n",
        "databunch = (TextList.from_df(data_train, cols=['story_tb'], processor=transformer_processor)\n",
        "             .split_by_rand_pct(0.1)\n",
        "             .label_from_df(cols=['performance_s'])\n",
        "             .add_test(data_test)\n",
        "             .databunch(bs=bs, pad_first=pad_first, pad_idx=pad_idx))"
      ],
      "execution_count": 14,
      "outputs": [
        {
          "output_type": "display_data",
          "data": {
            "text/html": [
              ""
            ],
            "text/plain": [
              "<IPython.core.display.HTML object>"
            ]
          },
          "metadata": {
            "tags": []
          }
        },
        {
          "output_type": "display_data",
          "data": {
            "text/html": [
              ""
            ],
            "text/plain": [
              "<IPython.core.display.HTML object>"
            ]
          },
          "metadata": {
            "tags": []
          }
        },
        {
          "output_type": "display_data",
          "data": {
            "text/html": [
              ""
            ],
            "text/plain": [
              "<IPython.core.display.HTML object>"
            ]
          },
          "metadata": {
            "tags": []
          }
        }
      ]
    },
    {
      "cell_type": "code",
      "metadata": {
        "id": "lwumfxpLF2sH",
        "colab_type": "code",
        "colab": {
          "base_uri": "https://localhost:8080/",
          "height": 363
        },
        "outputId": "70f7b56f-42a3-41e5-abfc-81b701ebb8ea"
      },
      "source": [
        "databunch.show_batch()"
      ],
      "execution_count": 15,
      "outputs": [
        {
          "output_type": "display_data",
          "data": {
            "text/html": [
              "<table border=\"1\" class=\"dataframe\">\n",
              "  <thead>\n",
              "    <tr style=\"text-align: right;\">\n",
              "      <th>text</th>\n",
              "      <th>target</th>\n",
              "    </tr>\n",
              "  </thead>\n",
              "  <tbody>\n",
              "    <tr>\n",
              "      <td>&lt;unk&gt; Ġbatteries Ġfor Ġeach Ġsand Ġtimer an Ġinstruction Ġcard Ġexplaining Ġhow Ġto Ġrecon figure Ġthe Ġtimer Ġduration Ġ-- Ġa Ġq r Ġcode Ġon Ġthe Ġback Ġdirects Ġyou Ġto Ġa Ġvideo Ġif Ġyou Ġlearn Ġbetter Ġby Ġwatching a Ġtool Ġfor Ġrecon fig uration Ġjust Ġlike Ġthe Ġone Ġin Ġthe Ġvideo Ġ( you Ġcan Ġuse Ġany Ġpaper clip , Ġbut Ġthis Ġwill Ġsave Ġyou Ġthe Ġtrouble Ġof Ġbending Ġone Ġto Ġyour Ġliking</td>\n",
              "      <td>3</td>\n",
              "    </tr>\n",
              "    <tr>\n",
              "      <td>&lt;unk&gt; ĠDi RT ĠModified ĠSeries This Ġis Ġto Ġstart Ġa Ġleague Ġin ĠRF actor Ġfor Ġthe Ġ358 / big Ġblock Ġmod Ġusing Ġthe ĠOH M ĠModified Ġmod Ġfunding Ġfor Ġserver , Ġmaintenance , Ġand Ġwebs it eth is Ġproject Ġis Ġto Ġstart Ġa Ġyearly Ġleague Ġfor Ġthe Ġgame Ġr factor , Ġwe Ġwill Ġbe Ġusing Ġthe Ġoh m Ġmodified Ġblaze Ġedition , Ġwe Ġwill Ġhave Ġtwo Ġmaybe Ġthree Ġpossible Ġleagues</td>\n",
              "      <td>0</td>\n",
              "    </tr>\n",
              "    <tr>\n",
              "      <td>&lt;unk&gt; Ġchrist mas Ġcalendar , Ġyou Ġwill Ġfind Ġthe Ġchapters Ġunder Ġupdates we Ġare Ġs ara Ġk opp el Ġ- Ġanim ator Ġand Ġdirector Ġ- Ġand Ġs une Ġk Ã¸ l ster Ġ- Ġcomposer Ġand Ġpartner Ġ- Ġand Ġwith Ġnaked Ġlove Ġfilm Ġwe Ġproduce Ġhand drawn Ġanimated Ġerotic Ġfilms âĢ¦ we Ġhave Ġmade Ġtwo Ġerotic Ġanimated Ġshort fil ms Ġthe Ġlast Ġtwo Ġyears , Ġthe Ġsex - educ ational Ġold</td>\n",
              "      <td>4</td>\n",
              "    </tr>\n",
              "    <tr>\n",
              "      <td>&lt;unk&gt; Ġraspberry Ġpi Ġand Ġpython Ġ( or Ġany Ġother Ġlanguage ) ard u ino esp 8 266 Ġ( e . g . Ġwe mos Ġd 1 Ġmini ) att iny Ġ( e . g . Ġdig isp ark ) you Ġcould Ġeven Ġcontrol Ġit Ġfrom Ġyour Ġphone , Ġif Ġconnected Ġto Ġwifi - enabled Ġdevice Ġlike Ġthe Ġpi Ġzero Ġw . Ġopen Ġa Ġport Ġon Ġyour Ġrouter Ġand Ġyou Ġcould</td>\n",
              "      <td>4</td>\n",
              "    </tr>\n",
              "    <tr>\n",
              "      <td>&lt;unk&gt; Ġr ick Ġch arettes ince Ġhe Ġfirst Ġfound Ġhis Ġway Ġinto Ġthe Ġmusic Ġindustry Ġduring Ġthe Ġearly Ġ1980 s , Ġsinger / song writer Ġr ick Ġch arette Ġhas Ġamassed Ġa Ġcatalog Ġof Ġhundreds Ġof Ġsongs Ġand Ġ12 Ġalbums Ġgaining Ġa Ġlarge Ġfollowing Ġfueled Ġby Ġover Ġ30 Ġyears Ġof Ġentertaining Ġgenerations Ġof Ġfamilies Ġplaying Ġlive Ġmusic Ġtouring Ġschools Ġand Ġconcert Ġvenues Ġthroughout Ġthe Ġunited Ġstates . &lt;unk&gt;</td>\n",
              "      <td>0</td>\n",
              "    </tr>\n",
              "  </tbody>\n",
              "</table>"
            ],
            "text/plain": [
              "<IPython.core.display.HTML object>"
            ]
          },
          "metadata": {
            "tags": []
          }
        }
      ]
    },
    {
      "cell_type": "code",
      "metadata": {
        "id": "VpvO36gPF6rC",
        "colab_type": "code",
        "colab": {
          "base_uri": "https://localhost:8080/",
          "height": 1000
        },
        "outputId": "0277a45f-eb77-4cc6-8ee8-9fc19623ed49"
      },
      "source": [
        "databunch.one_batch()[0]"
      ],
      "execution_count": 16,
      "outputs": [
        {
          "output_type": "execute_result",
          "data": {
            "text/plain": [
              "tensor([[    3,    30,   634,     5, 26900,  1761,   939,    64,   904,    47,\n",
              "             6,   415,   513,   389,   207,   160,     5,  3031,  2304,   425,\n",
              "            25,    10,  7970,    13,  3117,    42,   695,     5,  1435,     9,\n",
              "            42,   695,    16,   341,    13,     5,  3183,     8,   931,  1042,\n",
              "             9,     5, 30625,     8,     7,   185,     5,  1518,     7,     5,\n",
              "           220,   672,     9,  2406,    55,  5451,  1804,  5403,   785,     7,\n",
              "           210,     8,   350,   489,     5,  1518, 24254,  2222,  1437,   209,\n",
              "         30625,  1026,   233,     9,    41,    15,   164,  5177,  2783,     6,\n",
              "            14,    16, 13918,    30,   865,     6,   259,    11,    84,   793,\n",
              "          7259,  6815,     9,     5,   295,   605,     9, 20407,  1245,     3],\n",
              "        [    3,    84,  1049,   785,    40,    28,  1056,    15, 27634,  1265,\n",
              "            14,    16,  2139,    13,  1131,   521,    11,   645,    13,   106,\n",
              "             7,  3042,     5,   239,  4391,    15,   201,   119,   459,    36,\n",
              "         33557,   982,  1131, 10765, 10743,    43, 15734,     4,    84,   785,\n",
              "             6,    61,    40,   680,  5984,  3424,     6,    10,   827,     9,\n",
              "          1142,  1122,     7,   167,   303,    15,     5,  3031, 15734,     6,\n",
              "             8,   239,  3363, 32933,  5119,     9,  1131,  7614,  5705,  4776,\n",
              "            15, 15734,     6,    40,    28, 22472,     7,  1131,   521,    11,\n",
              "             5, 10409,   982,    25,   157,    25,   521,    11,    97,   749,\n",
              "            54,    32,  1884,     7,   185,     5,   201,   119,   459,     3],\n",
              "        [    3,  4066,  1120, 18250,  1943,   475,     4,   417,     4,   875,\n",
              "            41,  2770,  1040,   373, 31495,  5033,  6150,     6,     5,   849,\n",
              "           134,   865,  6298,     9, 12405,    12, 18261, 17094,     6,    15,\n",
              "          1842, 39344,    24,  7005,     6,    36,   627,    36,  2253, 32577,\n",
              "            43, 34774,   833,  3184,    40,  2519,    11,  2216,     8, 12548,\n",
              "          1319,     7,    10,  1810,  8576,     9, 34185,   217,   131,  2859,\n",
              "             6,  1109,     6,  1164,     6,  2369,     6,  4382,     6, 42685,\n",
              "         28496,     6, 43698,  9419,     6,  4382,     6,     8,   190,     5,\n",
              "         34185,     9, 16253,   293,     6,   939,     4,   242,     4,   802,\n",
              "          6995,    50,   802,  4620,  1592,   627, 38552,  1399,  2939,     3],\n",
              "        [    3, 10345,     5, 11914,  3662,  8831,  5632,   110,  4368,     8,\n",
              "            10, 11914,  3662,  8831,     6,    47,    64,    35,  5785,   697,\n",
              "            11, 22785,    19,    97,  8884,    31,   430,  3237,    81,     5,\n",
              "          2888,   126,   372,    13, 22698,  1536,   396,  1504,    50,   980,\n",
              "             6,  1029,    12, 13293,     6,    50,  3736,   490, 28687,    13,\n",
              "          1531, 19746,  1759,  1318,  6086,    36,   463, 47505,   569,    43,\n",
              "         15308,     9,  2512,     8,   643,   126,   258,  4710,  3344,     8,\n",
              "          1950,  8067, 17386,  1532,     8,   310,   552,    19,   204,     6,\n",
              "           151,  2744,     9,   110,  2674,  3686,   126,    19,     5,  1460,\n",
              "             7,  5540,    50, 33758,   143,   233,     6,  2635,   159,     3],\n",
              "        [    3, 12806, 20515,  2245,   689, 20141, 32045,   111,  2245, 11728,\n",
              "          5559, 17629,     7,   694,    10,  2245,   689,  2484,  4592,  1973,\n",
              "            13,   343,  1138,     8,    52,   240,  1400,     8,  1807,   114,\n",
              "            31,    10, 20659,  1070,  5611,  9006,    84,  2245,  4592,  1735,\n",
              "            11,     7,  7033,    37, 20069,  6339,    52,  3805,     7,   236,\n",
              "             7,  3529,  2245,    53,   747,   218,    75,    33,     5,    86,\n",
              "             7,  3886,  2245,  7317,     6,    98,    52,   236,     7,   185,\n",
              "             5,   543,   173,    66,     9,     5,   609,     8,   694,    47,\n",
              "            19,    10,  2245,  1973,   148,   110,  1230,  4592,  1108,     4,\n",
              "             3,     1,     1,     1,     1,     1,     1,     1,     1,     1],\n",
              "        [    3,    44,    27,   627,  1521,  3331,   910,  1758,   181,  2160,\n",
              "         21651,    34,  1982,    35,    44,   711, 31072,   939,  1317,    59,\n",
              "           741,  7363,   179,  7013,   162,    14,    37,    21,    10,  1955,\n",
              "            25,  1233,    11,     5,   750,     9,   291,   212,    12, 11046,\n",
              "         11267,  1521,    25,     5,  6095,     9, 10954,    52,  3805,     7,\n",
              "         34668,    81,   126,   181,  6695, 20979,     6,  1236,  3876,   506,\n",
              "           475,  2768, 12853,    12,  7450,  2420,  4621,     6,   885,   757,\n",
              "         39623,   605,   523,    36, 17830,  4299,     6,     9,   768,    43,\n",
              "           126,     8,    11,   103, 13947,   190,    55,  2679,     4,     3,\n",
              "             1,     1,     1,     1,     1,     1,     1,     1,     1,     1],\n",
              "        [    3,     5,    22,  9228, 15772,  8453,  1297,  1440,    13,     5,\n",
              "         20744,   164,   149,     5,   471,   627,    22,  3407,   225,     9,\n",
              "          7754,  1297, 15266,  1337,   352,    11, 13144,     6,  4133,     8,\n",
              "         11721, 11726,   700,    22,  1264,    12, 17178, 10267,  1297,   460,\n",
              "         21520,    11,  4392,   118,   348,   626,  1341,    10,   828,     9,\n",
              "           816,    12,  6940,   716,  1808,    81,     5,   107,    36,  8529,\n",
              "           484, 33507,    13,   856,  1097,  8015,     4,   175,   238,    98,\n",
              "           939,  1299,   101,   939,    21,  1227,     7,   836,    24,    88,\n",
              "             5,   232,     9,  1177, 22044, 21321,   328,     3,     1,     1,\n",
              "             1,     1,     1,     1,     1,     1,     1,     1,     1,     1],\n",
              "        [    3,   289,  6597,   250,   211, 10207,  8108,   757,  8293, 22307,\n",
              "             6,  6467, 12117,     6, 34794, 21654, 14099,  1829,     6,  4825,\n",
              "         36905,  1437,  6355,  4555,     6,   175,  8293, 19601,    19,  4938,\n",
              "         10016, 40116,    41,  4206,  1784,   298,  5571,  2335,    36, 26989,\n",
              "            43,  9493,   705,  4189,     5,  3599,     9,     5, 38187,   260,\n",
              "          2131,  2335,   627,  4045, 14981,     9, 10602, 12849,    16,  2771,\n",
              "            19, 34384,  1722, 20310,     9, 34362,     7,  5709,     5, 14065,\n",
              "          4405,  5840,     9,    10, 27931,  2335,    50,  5030, 30210,  2335,\n",
              "             4,     3,     1,     1,     1,     1,     1,     1,     1,     1,\n",
              "             1,     1,     1,     1,     1,     1,     1,     1,     1,     1]])"
            ]
          },
          "metadata": {
            "tags": []
          },
          "execution_count": 16
        }
      ]
    },
    {
      "cell_type": "markdown",
      "metadata": {
        "id": "SXaeC4fZ0voa",
        "colab_type": "text"
      },
      "source": [
        "## Define the classification model\n",
        "- use the pretrained roberta model as the encoder\n",
        "- add a classification head (a linear layer)\n",
        "- define sections that will be pregressively unfreezed during training"
      ]
    },
    {
      "cell_type": "code",
      "metadata": {
        "id": "0XtPysfEh0u1",
        "colab_type": "code",
        "colab": {}
      },
      "source": [
        "class RobertaClassifier(torch.nn.Module):\n",
        "\n",
        "  def __init__(self, num_labels = 4):\n",
        "    super(RobertaClassifier, self).__init__()\n",
        "    self.roberta = roberta_model\n",
        "    self.drop = torch.nn.Dropout(p = dropout_prob)\n",
        "    self.classifier = torch.nn.Linear(self.roberta.config.hidden_size, num_labels) # defining final output layer\n",
        "\n",
        "  def forward(self, input_ids, token_type_ids=None, attention_mask=None, labels=None):\n",
        "    _, pooled_output = self.roberta(input_ids, token_type_ids, attention_mask)\n",
        "    output = self.drop(pooled_output) \n",
        "    logits = self.classifier(pooled_output)\n",
        "    return logits"
      ],
      "execution_count": 20,
      "outputs": []
    },
    {
      "cell_type": "code",
      "metadata": {
        "id": "6M1JS06TI2E8",
        "colab_type": "code",
        "colab": {}
      },
      "source": [
        "roberta_model = RobertaModel.from_pretrained(\"roberta-base\")"
      ],
      "execution_count": 21,
      "outputs": []
    },
    {
      "cell_type": "code",
      "metadata": {
        "id": "vqBwPjrzuSlj",
        "colab_type": "code",
        "colab": {}
      },
      "source": [
        "dropout_prob = 0.05\n",
        "fastai_model = RobertaClassifier()"
      ],
      "execution_count": 22,
      "outputs": []
    },
    {
      "cell_type": "code",
      "metadata": {
        "id": "AG_lkCfkGBGZ",
        "colab_type": "code",
        "colab": {}
      },
      "source": [
        "learner = Learner(databunch, fastai_model, metrics=[accuracy])"
      ],
      "execution_count": 23,
      "outputs": []
    },
    {
      "cell_type": "code",
      "metadata": {
        "id": "-D44T7AWuB1m",
        "colab_type": "code",
        "colab": {
          "base_uri": "https://localhost:8080/",
          "height": 1000
        },
        "outputId": "0f9b09a9-0d9a-474b-c63d-73eb29c8f6f7"
      },
      "source": [
        "# Check model structure\n",
        "learner.model"
      ],
      "execution_count": 24,
      "outputs": [
        {
          "output_type": "execute_result",
          "data": {
            "text/plain": [
              "RobertaClassifier(\n",
              "  (roberta): RobertaModel(\n",
              "    (embeddings): RobertaEmbeddings(\n",
              "      (word_embeddings): Embedding(50265, 768, padding_idx=1)\n",
              "      (position_embeddings): Embedding(514, 768, padding_idx=1)\n",
              "      (token_type_embeddings): Embedding(1, 768)\n",
              "      (LayerNorm): LayerNorm((768,), eps=1e-05, elementwise_affine=True)\n",
              "      (dropout): Dropout(p=0.1, inplace=False)\n",
              "    )\n",
              "    (encoder): BertEncoder(\n",
              "      (layer): ModuleList(\n",
              "        (0): BertLayer(\n",
              "          (attention): BertAttention(\n",
              "            (self): BertSelfAttention(\n",
              "              (query): Linear(in_features=768, out_features=768, bias=True)\n",
              "              (key): Linear(in_features=768, out_features=768, bias=True)\n",
              "              (value): Linear(in_features=768, out_features=768, bias=True)\n",
              "              (dropout): Dropout(p=0.1, inplace=False)\n",
              "            )\n",
              "            (output): BertSelfOutput(\n",
              "              (dense): Linear(in_features=768, out_features=768, bias=True)\n",
              "              (LayerNorm): LayerNorm((768,), eps=1e-05, elementwise_affine=True)\n",
              "              (dropout): Dropout(p=0.1, inplace=False)\n",
              "            )\n",
              "          )\n",
              "          (intermediate): BertIntermediate(\n",
              "            (dense): Linear(in_features=768, out_features=3072, bias=True)\n",
              "          )\n",
              "          (output): BertOutput(\n",
              "            (dense): Linear(in_features=3072, out_features=768, bias=True)\n",
              "            (LayerNorm): LayerNorm((768,), eps=1e-05, elementwise_affine=True)\n",
              "            (dropout): Dropout(p=0.1, inplace=False)\n",
              "          )\n",
              "        )\n",
              "        (1): BertLayer(\n",
              "          (attention): BertAttention(\n",
              "            (self): BertSelfAttention(\n",
              "              (query): Linear(in_features=768, out_features=768, bias=True)\n",
              "              (key): Linear(in_features=768, out_features=768, bias=True)\n",
              "              (value): Linear(in_features=768, out_features=768, bias=True)\n",
              "              (dropout): Dropout(p=0.1, inplace=False)\n",
              "            )\n",
              "            (output): BertSelfOutput(\n",
              "              (dense): Linear(in_features=768, out_features=768, bias=True)\n",
              "              (LayerNorm): LayerNorm((768,), eps=1e-05, elementwise_affine=True)\n",
              "              (dropout): Dropout(p=0.1, inplace=False)\n",
              "            )\n",
              "          )\n",
              "          (intermediate): BertIntermediate(\n",
              "            (dense): Linear(in_features=768, out_features=3072, bias=True)\n",
              "          )\n",
              "          (output): BertOutput(\n",
              "            (dense): Linear(in_features=3072, out_features=768, bias=True)\n",
              "            (LayerNorm): LayerNorm((768,), eps=1e-05, elementwise_affine=True)\n",
              "            (dropout): Dropout(p=0.1, inplace=False)\n",
              "          )\n",
              "        )\n",
              "        (2): BertLayer(\n",
              "          (attention): BertAttention(\n",
              "            (self): BertSelfAttention(\n",
              "              (query): Linear(in_features=768, out_features=768, bias=True)\n",
              "              (key): Linear(in_features=768, out_features=768, bias=True)\n",
              "              (value): Linear(in_features=768, out_features=768, bias=True)\n",
              "              (dropout): Dropout(p=0.1, inplace=False)\n",
              "            )\n",
              "            (output): BertSelfOutput(\n",
              "              (dense): Linear(in_features=768, out_features=768, bias=True)\n",
              "              (LayerNorm): LayerNorm((768,), eps=1e-05, elementwise_affine=True)\n",
              "              (dropout): Dropout(p=0.1, inplace=False)\n",
              "            )\n",
              "          )\n",
              "          (intermediate): BertIntermediate(\n",
              "            (dense): Linear(in_features=768, out_features=3072, bias=True)\n",
              "          )\n",
              "          (output): BertOutput(\n",
              "            (dense): Linear(in_features=3072, out_features=768, bias=True)\n",
              "            (LayerNorm): LayerNorm((768,), eps=1e-05, elementwise_affine=True)\n",
              "            (dropout): Dropout(p=0.1, inplace=False)\n",
              "          )\n",
              "        )\n",
              "        (3): BertLayer(\n",
              "          (attention): BertAttention(\n",
              "            (self): BertSelfAttention(\n",
              "              (query): Linear(in_features=768, out_features=768, bias=True)\n",
              "              (key): Linear(in_features=768, out_features=768, bias=True)\n",
              "              (value): Linear(in_features=768, out_features=768, bias=True)\n",
              "              (dropout): Dropout(p=0.1, inplace=False)\n",
              "            )\n",
              "            (output): BertSelfOutput(\n",
              "              (dense): Linear(in_features=768, out_features=768, bias=True)\n",
              "              (LayerNorm): LayerNorm((768,), eps=1e-05, elementwise_affine=True)\n",
              "              (dropout): Dropout(p=0.1, inplace=False)\n",
              "            )\n",
              "          )\n",
              "          (intermediate): BertIntermediate(\n",
              "            (dense): Linear(in_features=768, out_features=3072, bias=True)\n",
              "          )\n",
              "          (output): BertOutput(\n",
              "            (dense): Linear(in_features=3072, out_features=768, bias=True)\n",
              "            (LayerNorm): LayerNorm((768,), eps=1e-05, elementwise_affine=True)\n",
              "            (dropout): Dropout(p=0.1, inplace=False)\n",
              "          )\n",
              "        )\n",
              "        (4): BertLayer(\n",
              "          (attention): BertAttention(\n",
              "            (self): BertSelfAttention(\n",
              "              (query): Linear(in_features=768, out_features=768, bias=True)\n",
              "              (key): Linear(in_features=768, out_features=768, bias=True)\n",
              "              (value): Linear(in_features=768, out_features=768, bias=True)\n",
              "              (dropout): Dropout(p=0.1, inplace=False)\n",
              "            )\n",
              "            (output): BertSelfOutput(\n",
              "              (dense): Linear(in_features=768, out_features=768, bias=True)\n",
              "              (LayerNorm): LayerNorm((768,), eps=1e-05, elementwise_affine=True)\n",
              "              (dropout): Dropout(p=0.1, inplace=False)\n",
              "            )\n",
              "          )\n",
              "          (intermediate): BertIntermediate(\n",
              "            (dense): Linear(in_features=768, out_features=3072, bias=True)\n",
              "          )\n",
              "          (output): BertOutput(\n",
              "            (dense): Linear(in_features=3072, out_features=768, bias=True)\n",
              "            (LayerNorm): LayerNorm((768,), eps=1e-05, elementwise_affine=True)\n",
              "            (dropout): Dropout(p=0.1, inplace=False)\n",
              "          )\n",
              "        )\n",
              "        (5): BertLayer(\n",
              "          (attention): BertAttention(\n",
              "            (self): BertSelfAttention(\n",
              "              (query): Linear(in_features=768, out_features=768, bias=True)\n",
              "              (key): Linear(in_features=768, out_features=768, bias=True)\n",
              "              (value): Linear(in_features=768, out_features=768, bias=True)\n",
              "              (dropout): Dropout(p=0.1, inplace=False)\n",
              "            )\n",
              "            (output): BertSelfOutput(\n",
              "              (dense): Linear(in_features=768, out_features=768, bias=True)\n",
              "              (LayerNorm): LayerNorm((768,), eps=1e-05, elementwise_affine=True)\n",
              "              (dropout): Dropout(p=0.1, inplace=False)\n",
              "            )\n",
              "          )\n",
              "          (intermediate): BertIntermediate(\n",
              "            (dense): Linear(in_features=768, out_features=3072, bias=True)\n",
              "          )\n",
              "          (output): BertOutput(\n",
              "            (dense): Linear(in_features=3072, out_features=768, bias=True)\n",
              "            (LayerNorm): LayerNorm((768,), eps=1e-05, elementwise_affine=True)\n",
              "            (dropout): Dropout(p=0.1, inplace=False)\n",
              "          )\n",
              "        )\n",
              "        (6): BertLayer(\n",
              "          (attention): BertAttention(\n",
              "            (self): BertSelfAttention(\n",
              "              (query): Linear(in_features=768, out_features=768, bias=True)\n",
              "              (key): Linear(in_features=768, out_features=768, bias=True)\n",
              "              (value): Linear(in_features=768, out_features=768, bias=True)\n",
              "              (dropout): Dropout(p=0.1, inplace=False)\n",
              "            )\n",
              "            (output): BertSelfOutput(\n",
              "              (dense): Linear(in_features=768, out_features=768, bias=True)\n",
              "              (LayerNorm): LayerNorm((768,), eps=1e-05, elementwise_affine=True)\n",
              "              (dropout): Dropout(p=0.1, inplace=False)\n",
              "            )\n",
              "          )\n",
              "          (intermediate): BertIntermediate(\n",
              "            (dense): Linear(in_features=768, out_features=3072, bias=True)\n",
              "          )\n",
              "          (output): BertOutput(\n",
              "            (dense): Linear(in_features=3072, out_features=768, bias=True)\n",
              "            (LayerNorm): LayerNorm((768,), eps=1e-05, elementwise_affine=True)\n",
              "            (dropout): Dropout(p=0.1, inplace=False)\n",
              "          )\n",
              "        )\n",
              "        (7): BertLayer(\n",
              "          (attention): BertAttention(\n",
              "            (self): BertSelfAttention(\n",
              "              (query): Linear(in_features=768, out_features=768, bias=True)\n",
              "              (key): Linear(in_features=768, out_features=768, bias=True)\n",
              "              (value): Linear(in_features=768, out_features=768, bias=True)\n",
              "              (dropout): Dropout(p=0.1, inplace=False)\n",
              "            )\n",
              "            (output): BertSelfOutput(\n",
              "              (dense): Linear(in_features=768, out_features=768, bias=True)\n",
              "              (LayerNorm): LayerNorm((768,), eps=1e-05, elementwise_affine=True)\n",
              "              (dropout): Dropout(p=0.1, inplace=False)\n",
              "            )\n",
              "          )\n",
              "          (intermediate): BertIntermediate(\n",
              "            (dense): Linear(in_features=768, out_features=3072, bias=True)\n",
              "          )\n",
              "          (output): BertOutput(\n",
              "            (dense): Linear(in_features=3072, out_features=768, bias=True)\n",
              "            (LayerNorm): LayerNorm((768,), eps=1e-05, elementwise_affine=True)\n",
              "            (dropout): Dropout(p=0.1, inplace=False)\n",
              "          )\n",
              "        )\n",
              "        (8): BertLayer(\n",
              "          (attention): BertAttention(\n",
              "            (self): BertSelfAttention(\n",
              "              (query): Linear(in_features=768, out_features=768, bias=True)\n",
              "              (key): Linear(in_features=768, out_features=768, bias=True)\n",
              "              (value): Linear(in_features=768, out_features=768, bias=True)\n",
              "              (dropout): Dropout(p=0.1, inplace=False)\n",
              "            )\n",
              "            (output): BertSelfOutput(\n",
              "              (dense): Linear(in_features=768, out_features=768, bias=True)\n",
              "              (LayerNorm): LayerNorm((768,), eps=1e-05, elementwise_affine=True)\n",
              "              (dropout): Dropout(p=0.1, inplace=False)\n",
              "            )\n",
              "          )\n",
              "          (intermediate): BertIntermediate(\n",
              "            (dense): Linear(in_features=768, out_features=3072, bias=True)\n",
              "          )\n",
              "          (output): BertOutput(\n",
              "            (dense): Linear(in_features=3072, out_features=768, bias=True)\n",
              "            (LayerNorm): LayerNorm((768,), eps=1e-05, elementwise_affine=True)\n",
              "            (dropout): Dropout(p=0.1, inplace=False)\n",
              "          )\n",
              "        )\n",
              "        (9): BertLayer(\n",
              "          (attention): BertAttention(\n",
              "            (self): BertSelfAttention(\n",
              "              (query): Linear(in_features=768, out_features=768, bias=True)\n",
              "              (key): Linear(in_features=768, out_features=768, bias=True)\n",
              "              (value): Linear(in_features=768, out_features=768, bias=True)\n",
              "              (dropout): Dropout(p=0.1, inplace=False)\n",
              "            )\n",
              "            (output): BertSelfOutput(\n",
              "              (dense): Linear(in_features=768, out_features=768, bias=True)\n",
              "              (LayerNorm): LayerNorm((768,), eps=1e-05, elementwise_affine=True)\n",
              "              (dropout): Dropout(p=0.1, inplace=False)\n",
              "            )\n",
              "          )\n",
              "          (intermediate): BertIntermediate(\n",
              "            (dense): Linear(in_features=768, out_features=3072, bias=True)\n",
              "          )\n",
              "          (output): BertOutput(\n",
              "            (dense): Linear(in_features=3072, out_features=768, bias=True)\n",
              "            (LayerNorm): LayerNorm((768,), eps=1e-05, elementwise_affine=True)\n",
              "            (dropout): Dropout(p=0.1, inplace=False)\n",
              "          )\n",
              "        )\n",
              "        (10): BertLayer(\n",
              "          (attention): BertAttention(\n",
              "            (self): BertSelfAttention(\n",
              "              (query): Linear(in_features=768, out_features=768, bias=True)\n",
              "              (key): Linear(in_features=768, out_features=768, bias=True)\n",
              "              (value): Linear(in_features=768, out_features=768, bias=True)\n",
              "              (dropout): Dropout(p=0.1, inplace=False)\n",
              "            )\n",
              "            (output): BertSelfOutput(\n",
              "              (dense): Linear(in_features=768, out_features=768, bias=True)\n",
              "              (LayerNorm): LayerNorm((768,), eps=1e-05, elementwise_affine=True)\n",
              "              (dropout): Dropout(p=0.1, inplace=False)\n",
              "            )\n",
              "          )\n",
              "          (intermediate): BertIntermediate(\n",
              "            (dense): Linear(in_features=768, out_features=3072, bias=True)\n",
              "          )\n",
              "          (output): BertOutput(\n",
              "            (dense): Linear(in_features=3072, out_features=768, bias=True)\n",
              "            (LayerNorm): LayerNorm((768,), eps=1e-05, elementwise_affine=True)\n",
              "            (dropout): Dropout(p=0.1, inplace=False)\n",
              "          )\n",
              "        )\n",
              "        (11): BertLayer(\n",
              "          (attention): BertAttention(\n",
              "            (self): BertSelfAttention(\n",
              "              (query): Linear(in_features=768, out_features=768, bias=True)\n",
              "              (key): Linear(in_features=768, out_features=768, bias=True)\n",
              "              (value): Linear(in_features=768, out_features=768, bias=True)\n",
              "              (dropout): Dropout(p=0.1, inplace=False)\n",
              "            )\n",
              "            (output): BertSelfOutput(\n",
              "              (dense): Linear(in_features=768, out_features=768, bias=True)\n",
              "              (LayerNorm): LayerNorm((768,), eps=1e-05, elementwise_affine=True)\n",
              "              (dropout): Dropout(p=0.1, inplace=False)\n",
              "            )\n",
              "          )\n",
              "          (intermediate): BertIntermediate(\n",
              "            (dense): Linear(in_features=768, out_features=3072, bias=True)\n",
              "          )\n",
              "          (output): BertOutput(\n",
              "            (dense): Linear(in_features=3072, out_features=768, bias=True)\n",
              "            (LayerNorm): LayerNorm((768,), eps=1e-05, elementwise_affine=True)\n",
              "            (dropout): Dropout(p=0.1, inplace=False)\n",
              "          )\n",
              "        )\n",
              "      )\n",
              "    )\n",
              "    (pooler): BertPooler(\n",
              "      (dense): Linear(in_features=768, out_features=768, bias=True)\n",
              "      (activation): Tanh()\n",
              "    )\n",
              "  )\n",
              "  (drop): Dropout(p=0.05, inplace=False)\n",
              "  (classifier): Linear(in_features=768, out_features=4, bias=True)\n",
              ")"
            ]
          },
          "metadata": {
            "tags": []
          },
          "execution_count": 24
        }
      ]
    },
    {
      "cell_type": "code",
      "metadata": {
        "id": "pxo02YaaGdhq",
        "colab_type": "code",
        "colab": {}
      },
      "source": [
        "# Split the 14 layers we have\n",
        "# 1 embedding, 12 transformer, 1 classifier\n",
        "list_layers = [learner.model.roberta.embeddings,\n",
        "              learner.model.roberta.encoder.layer[0],\n",
        "              learner.model.roberta.encoder.layer[1],\n",
        "              learner.model.roberta.encoder.layer[2],\n",
        "              learner.model.roberta.encoder.layer[3],\n",
        "              learner.model.roberta.encoder.layer[4],\n",
        "              learner.model.roberta.encoder.layer[5],\n",
        "              learner.model.roberta.encoder.layer[6],\n",
        "              learner.model.roberta.encoder.layer[7],\n",
        "              learner.model.roberta.encoder.layer[8],\n",
        "              learner.model.roberta.encoder.layer[9],\n",
        "              learner.model.roberta.encoder.layer[10],\n",
        "              learner.model.roberta.encoder.layer[11],\n",
        "              learner.model.roberta.pooler]\n",
        "\n",
        "learner.split(list_layers);"
      ],
      "execution_count": 25,
      "outputs": []
    },
    {
      "cell_type": "code",
      "metadata": {
        "id": "Sa6TwQ1HGhU5",
        "colab_type": "code",
        "colab": {
          "base_uri": "https://localhost:8080/",
          "height": 35
        },
        "outputId": "4fe54f9e-9026-43ea-cbd0-a54af689e3c7"
      },
      "source": [
        "len(learner.layer_groups)"
      ],
      "execution_count": 26,
      "outputs": [
        {
          "output_type": "execute_result",
          "data": {
            "text/plain": [
              "14"
            ]
          },
          "metadata": {
            "tags": []
          },
          "execution_count": 26
        }
      ]
    },
    {
      "cell_type": "markdown",
      "metadata": {
        "id": "Vj5t-uWE1Aq2",
        "colab_type": "text"
      },
      "source": [
        "## Training the model"
      ]
    },
    {
      "cell_type": "code",
      "metadata": {
        "id": "YBxU88_EGiR5",
        "colab_type": "code",
        "colab": {}
      },
      "source": [
        "learner.freeze_to(-1)"
      ],
      "execution_count": 27,
      "outputs": []
    },
    {
      "cell_type": "code",
      "metadata": {
        "id": "lmNuM3ndGneV",
        "colab_type": "code",
        "colab": {
          "base_uri": "https://localhost:8080/",
          "height": 114
        },
        "outputId": "f071dfd3-330b-4296-9261-62a14e510312"
      },
      "source": [
        "learner.lr_find()"
      ],
      "execution_count": 28,
      "outputs": [
        {
          "output_type": "display_data",
          "data": {
            "text/html": [
              "\n",
              "    <div>\n",
              "        <style>\n",
              "            /* Turns off some styling */\n",
              "            progress {\n",
              "                /* gets rid of default border in Firefox and Opera. */\n",
              "                border: none;\n",
              "                /* Needs to be in here for Safari polyfill so background images work as expected. */\n",
              "                background-size: auto;\n",
              "            }\n",
              "            .progress-bar-interrupted, .progress-bar-interrupted::-webkit-progress-bar {\n",
              "                background: #F44336;\n",
              "            }\n",
              "        </style>\n",
              "      <progress value='0' class='' max='1' style='width:300px; height:20px; vertical-align: middle;'></progress>\n",
              "      0.00% [0/1 00:00<00:00]\n",
              "    </div>\n",
              "    \n",
              "<table border=\"1\" class=\"dataframe\">\n",
              "  <thead>\n",
              "    <tr style=\"text-align: left;\">\n",
              "      <th>epoch</th>\n",
              "      <th>train_loss</th>\n",
              "      <th>valid_loss</th>\n",
              "      <th>accuracy</th>\n",
              "      <th>time</th>\n",
              "    </tr>\n",
              "  </thead>\n",
              "  <tbody>\n",
              "  </tbody>\n",
              "</table><p>\n",
              "\n",
              "    <div>\n",
              "        <style>\n",
              "            /* Turns off some styling */\n",
              "            progress {\n",
              "                /* gets rid of default border in Firefox and Opera. */\n",
              "                border: none;\n",
              "                /* Needs to be in here for Safari polyfill so background images work as expected. */\n",
              "                background-size: auto;\n",
              "            }\n",
              "            .progress-bar-interrupted, .progress-bar-interrupted::-webkit-progress-bar {\n",
              "                background: #F44336;\n",
              "            }\n",
              "        </style>\n",
              "      <progress value='78' class='' max='933' style='width:300px; height:20px; vertical-align: middle;'></progress>\n",
              "      8.36% [78/933 00:56<10:15 4.7437]\n",
              "    </div>\n",
              "    "
            ],
            "text/plain": [
              "<IPython.core.display.HTML object>"
            ]
          },
          "metadata": {
            "tags": []
          }
        },
        {
          "output_type": "stream",
          "text": [
            "LR Finder is complete, type {learner_name}.recorder.plot() to see the graph.\n"
          ],
          "name": "stdout"
        }
      ]
    },
    {
      "cell_type": "code",
      "metadata": {
        "id": "pkM4RdseLCl2",
        "colab_type": "code",
        "colab": {
          "base_uri": "https://localhost:8080/",
          "height": 279
        },
        "outputId": "4137402e-8c40-4e5c-d16f-4c3ad5748331"
      },
      "source": [
        "learner.recorder.plot()"
      ],
      "execution_count": 29,
      "outputs": [
        {
          "output_type": "display_data",
          "data": {
            "image/png": "[encoded data removed]",
            "text/plain": [
              "<Figure size 432x288 with 1 Axes>"
            ]
          },
          "metadata": {
            "tags": [],
            "needs_background": "light"
          }
        }
      ]
    },
    {
      "cell_type": "code",
      "metadata": {
        "id": "k2FgpDtIL362",
        "colab_type": "code",
        "colab": {
          "base_uri": "https://localhost:8080/",
          "height": 81
        },
        "outputId": "084c57a9-40a6-4bba-bc19-63fdb6791222"
      },
      "source": [
        " learner.fit_one_cycle(1, max_lr = 1e-4)"
      ],
      "execution_count": 31,
      "outputs": [
        {
          "output_type": "display_data",
          "data": {
            "text/html": [
              "<table border=\"1\" class=\"dataframe\">\n",
              "  <thead>\n",
              "    <tr style=\"text-align: left;\">\n",
              "      <th>epoch</th>\n",
              "      <th>train_loss</th>\n",
              "      <th>valid_loss</th>\n",
              "      <th>accuracy</th>\n",
              "      <th>time</th>\n",
              "    </tr>\n",
              "  </thead>\n",
              "  <tbody>\n",
              "    <tr>\n",
              "      <td>0</td>\n",
              "      <td>1.304926</td>\n",
              "      <td>1.308457</td>\n",
              "      <td>0.378770</td>\n",
              "      <td>13:18</td>\n",
              "    </tr>\n",
              "  </tbody>\n",
              "</table>"
            ],
            "text/plain": [
              "<IPython.core.display.HTML object>"
            ]
          },
          "metadata": {
            "tags": []
          }
        }
      ]
    },
    {
      "cell_type": "code",
      "metadata": {
        "id": "lk5zq6bePcFB",
        "colab_type": "code",
        "colab": {
          "base_uri": "https://localhost:8080/",
          "height": 112
        },
        "outputId": "75fbf70e-8e03-40dc-c8e1-2072a1cad83e"
      },
      "source": [
        " learner.fit_one_cycle(2, max_lr = 1e-4)"
      ],
      "execution_count": 32,
      "outputs": [
        {
          "output_type": "display_data",
          "data": {
            "text/html": [
              "<table border=\"1\" class=\"dataframe\">\n",
              "  <thead>\n",
              "    <tr style=\"text-align: left;\">\n",
              "      <th>epoch</th>\n",
              "      <th>train_loss</th>\n",
              "      <th>valid_loss</th>\n",
              "      <th>accuracy</th>\n",
              "      <th>time</th>\n",
              "    </tr>\n",
              "  </thead>\n",
              "  <tbody>\n",
              "    <tr>\n",
              "      <td>0</td>\n",
              "      <td>1.313157</td>\n",
              "      <td>1.298315</td>\n",
              "      <td>0.377563</td>\n",
              "      <td>14:41</td>\n",
              "    </tr>\n",
              "    <tr>\n",
              "      <td>1</td>\n",
              "      <td>1.309902</td>\n",
              "      <td>1.289381</td>\n",
              "      <td>0.379976</td>\n",
              "      <td>14:15</td>\n",
              "    </tr>\n",
              "  </tbody>\n",
              "</table>"
            ],
            "text/plain": [
              "<IPython.core.display.HTML object>"
            ]
          },
          "metadata": {
            "tags": []
          }
        }
      ]
    },
    {
      "cell_type": "code",
      "metadata": {
        "id": "2Wf69hNCXUcw",
        "colab_type": "code",
        "colab": {}
      },
      "source": [
        " learner.fit_one_cycle(2, max_lr = 1e-4)"
      ],
      "execution_count": null,
      "outputs": []
    },
    {
      "cell_type": "code",
      "metadata": {
        "id": "mk9U-RbJXLRw",
        "colab_type": "code",
        "colab": {}
      },
      "source": [
        " learner.save('3-1') # 3 cycles layer -1"
      ],
      "execution_count": 33,
      "outputs": []
    },
    {
      "cell_type": "code",
      "metadata": {
        "id": "kbmnGtJeXYZ7",
        "colab_type": "code",
        "colab": {}
      },
      "source": [
        "learner.freeze_to(-3)"
      ],
      "execution_count": 34,
      "outputs": []
    },
    {
      "cell_type": "code",
      "metadata": {
        "id": "-9hXJ_vMXnVA",
        "colab_type": "code",
        "colab": {
          "base_uri": "https://localhost:8080/",
          "height": 112
        },
        "outputId": "7fb3b037-35ac-4650-9f94-f8692b2158da"
      },
      "source": [
        " learner.fit_one_cycle(2, max_lr = 5e-5)\n",
        " # unfreezing to the trasformer layers does a lot for improving model performance"
      ],
      "execution_count": 35,
      "outputs": [
        {
          "output_type": "display_data",
          "data": {
            "text/html": [
              "<table border=\"1\" class=\"dataframe\">\n",
              "  <thead>\n",
              "    <tr style=\"text-align: left;\">\n",
              "      <th>epoch</th>\n",
              "      <th>train_loss</th>\n",
              "      <th>valid_loss</th>\n",
              "      <th>accuracy</th>\n",
              "      <th>time</th>\n",
              "    </tr>\n",
              "  </thead>\n",
              "  <tbody>\n",
              "    <tr>\n",
              "      <td>0</td>\n",
              "      <td>1.256511</td>\n",
              "      <td>1.192422</td>\n",
              "      <td>0.458384</td>\n",
              "      <td>19:59</td>\n",
              "    </tr>\n",
              "    <tr>\n",
              "      <td>1</td>\n",
              "      <td>1.202420</td>\n",
              "      <td>1.144192</td>\n",
              "      <td>0.482509</td>\n",
              "      <td>20:11</td>\n",
              "    </tr>\n",
              "  </tbody>\n",
              "</table>"
            ],
            "text/plain": [
              "<IPython.core.display.HTML object>"
            ]
          },
          "metadata": {
            "tags": []
          }
        }
      ]
    },
    {
      "cell_type": "code",
      "metadata": {
        "id": "mvYPr6JrXqcf",
        "colab_type": "code",
        "colab": {}
      },
      "source": [
        "learner.save('2-3') # 2 cycles layer -3"
      ],
      "execution_count": 36,
      "outputs": []
    }
  ]
}